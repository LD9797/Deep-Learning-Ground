{
  "nbformat": 4,
  "nbformat_minor": 0,
  "metadata": {
    "colab": {
      "name": "TP0.ipynb",
      "provenance": [],
      "collapsed_sections": []
    },
    "kernelspec": {
      "name": "python3",
      "display_name": "Python 3"
    },
    "language_info": {
      "name": "python"
    }
  },
  "cells": [
    {
      "cell_type": "markdown",
      "source": [
        "###**Import de librerías**"
      ],
      "metadata": {
        "id": "KR1GpX8m_l1B"
      }
    },
    {
      "cell_type": "code",
      "execution_count": 194,
      "metadata": {
        "id": "DxsNjlpLyGtI"
      },
      "outputs": [],
      "source": [
        "import math\n",
        "import torch\n",
        "import random\n",
        "from matplotlib import cm\n",
        "import scipy.stats as stats\n",
        "import matplotlib.pyplot as plt"
      ]
    },
    {
      "cell_type": "markdown",
      "source": [
        "###**2- (30 puntos) Funciones multivariable**\n"
      ],
      "metadata": {
        "id": "Wi0XP-bHYS8r"
      }
    },
    {
      "cell_type": "markdown",
      "source": [
        "####1. **El vector gradiente**:\n",
        "\n",
        "Para cada una de las siguientes funciones multivariable: grafique su superficie, calcule el vector gradiente manualmente, evaluelo y grafique el vector unitario o de largo conveniente para su visualización, en la dirección del gradiente para los dos puntos especificados (en la misma figura de la superficie). Finalmente calcule la magnitud de tal vector gradiente en cada punto."
      ],
      "metadata": {
        "id": "lGZZmVP4_NXg"
      }
    },
    {
      "cell_type": "markdown",
      "source": [
        "#####**c) (5 puntos)** $z=f\\left(x,y\\right)=4x^{2}+2x+e^{2x}+5y^{2}+e^{3y}+1$, evaluación del gradiente en los puntos $P_{0}=\\left(2,1\\right)$ y $P_{1}=\\left(5,7\\right)$.\n",
        "\n",
        "> Dada la función anterior, el gradiente de la primera función estaría dado por las siguientes derivadas parciales:\n",
        "\n",
        "> $\\nabla f\\left(x,y\\right)=\\begin{cases}\n",
        "\\frac{\\delta}{\\delta x}4x^{2}+2x+e^{2x}+5y^{2}+e^{3y}+1= & 2e^{2x}+8x+2\\\\\n",
        "\\frac{\\delta}{\\delta y}4x^{2}+2x+e^{2x}+5y^{2}+e^{3y}+1= & 3e^{3y}+10y\n",
        "\\end{cases}$"
      ],
      "metadata": {
        "id": "emPgZZ9lq7pr"
      }
    },
    {
      "cell_type": "code",
      "source": [
        "def funcion_c(x, y):\n",
        "  return (4*x**2)+(2*x)+(math.e**(2*x))+(5*(y**2))+(math.e**(3*y))+1\n",
        "\n",
        "def derivada_funcion_c_1(x):\n",
        "  return (2*(math.e**(2*x)))+(8*x)+2\n",
        "\n",
        "def derivada_funcion_c_2(x):\n",
        "  return (3*(math.e**(3*x)))+(10*x)"
      ],
      "metadata": {
        "id": "yi1-zPVmqQlW"
      },
      "execution_count": 9,
      "outputs": []
    },
    {
      "cell_type": "markdown",
      "source": [
        "> Al evaluar ambos puntos, siendo estos $P_{0}=\\left(2,1\\right)$ y $P_{1}=\\left(5,7\\right)$, se obtienen los siguientes resultados:"
      ],
      "metadata": {
        "id": "_1yxXGcaz44i"
      }
    },
    {
      "cell_type": "code",
      "source": [
        "gradiente_punto_0 = torch.tensor([derivada_funcion_c_1(2), derivada_funcion_c_2(1), 0])\n",
        "print(\"Gradiente evaluado en P0: \", gradiente_punto_0)\n",
        "print(\"Magnitud del gradiente evaluado en P0: \", torch.norm(gradiente_punto_0), \"\\n\")\n",
        "\n",
        "gradiente_punto_1 = torch.tensor([derivada_funcion_c_1(5), derivada_funcion_c_2(7), 0])\n",
        "print(\"Gradiente evaluado en P1: \", gradiente_punto_1)\n",
        "print(\"Magnitud del gradiente evaluado en P1: \", torch.norm(gradiente_punto_1))"
      ],
      "metadata": {
        "colab": {
          "base_uri": "https://localhost:8080/"
        },
        "id": "6l-dRR3EGt-5",
        "outputId": "f3be70ae-cd79-45a3-d460-e1ade5b56fd4"
      },
      "execution_count": 10,
      "outputs": [
        {
          "output_type": "stream",
          "name": "stdout",
          "text": [
            "Gradiente evaluado en P0:  tensor([127.1963,  70.2566,   0.0000])\n",
            "Magnitud del gradiente evaluado en P0:  tensor(145.3096) \n",
            "\n",
            "Gradiente evaluado en P1:  tensor([4.4095e+04, 3.9564e+09, 0.0000e+00])\n",
            "Magnitud del gradiente evaluado en P1:  tensor(3.9564e+09)\n"
          ]
        }
      ]
    },
    {
      "cell_type": "markdown",
      "source": [
        "> A continuación se presenta el gráfico respectivo: la superficie abarcada por la función en la maya de coordenadas junto con los dos vectores resultantes de la evaluación de cada uno de los dos puntos especificados en el vector gradiente obtenido de las derivadas parciales anteriormente calculadas:"
      ],
      "metadata": {
        "id": "3uwopca7PWQu"
      }
    },
    {
      "cell_type": "code",
      "source": [
        "def evaluar_grandiente(inicio, arrange):\n",
        "    xs = torch.linspace(arrange[0], arrange[1], steps=256)  # x1\n",
        "    ys = torch.linspace(arrange[0], arrange[1], steps=256)  # x2\n",
        "    x, y = torch.meshgrid(xs, ys, indexing='xy')\n",
        "\n",
        "    #  Se presentan los vectores y la superficie de la función en el resultado\n",
        "    ax = plt.axes(projection='3d')\n",
        "    ax.quiver(inicio[0], inicio[1], inicio[2], gradiente_punto_0[0], gradiente_punto_0[1], gradiente_punto_0[2])\n",
        "    ax.quiver(inicio[0], inicio[1], inicio[2], gradiente_punto_1[0], gradiente_punto_1[1], gradiente_punto_1[2])\n",
        "    ax.plot_surface(x.numpy(), y.numpy(), funcion_c(x, y).numpy(), cmap=cm.coolwarm, linewidth=0, antialiased=False)\n",
        "    plt.show()\n",
        "\n",
        "evaluar_grandiente([0, 0, 0], [-1, 1])"
      ],
      "metadata": {
        "colab": {
          "base_uri": "https://localhost:8080/",
          "height": 248
        },
        "id": "NMutg5RbyU1m",
        "outputId": "967149cb-1cac-426f-b9fb-8585f053127f"
      },
      "execution_count": 11,
      "outputs": [
        {
          "output_type": "display_data",
          "data": {
            "text/plain": [
              "<Figure size 432x288 with 1 Axes>"
            ],
            "image/png": "[encoded data removed]"
          },
          "metadata": {
            "needs_background": "light"
          }
        }
      ]
    },
    {
      "cell_type": "markdown",
      "source": [
        "####2. **(10 puntos)** En general, investigue ¿qué es y que indica la matriz Hessiana?"
      ],
      "metadata": {
        "id": "D-sHfchxULlY"
      }
    },
    {
      "cell_type": "markdown",
      "source": [
        "> Sobre las aplicaciones de esta matriz, se pueden citar los siguientes puntos:\n",
        "\n",
        "* Permite encontrar ya sea máximos o mínimos de funciones multivariable. Para conseguir esto, el procedimiento a seguir consiste de obtener los puntos críticos de la función (igualando a cero el vector gradiente y obteniendo los puntos respectivos del despeje) y operarlos con la matriz Hessiana.\n",
        "\n",
        "> Una vez obtenido el resultado, la matriz que se consiguió debe ser evaluada bajo el criterio de: definida positiva, definida negativa, indefinida, etc (lo cual puede ser establecido con el Criterio de los valores propios o con el Criterio de Sylvester).\n",
        "\n",
        "> Dependiendo del tipo de matriz obtenida, así podrá definirse el punto que fue utilizado para el cálculo (máximo, mínimo o un punto neutro).\n",
        "\n",
        "\n",
        "* También permite saber si una función es cóncava o convexa con respecto a un conjunto de puntos pertenecientes a la función, aplicando nuevamente el concepto de definida positiva, definida negativa, indefinida, etc.\n",
        "\n",
        "Fuentes utilizadas para cálculo y usos:\n",
        "* [Matriz Hessiana (o Hessiano)](https://www.matricesydeterminantes.com/matrices/matriz-hessiana-hessiano-2x2-3x3/)\n",
        "* [La matriz hessiana](https://es.khanacademy.org/math/multivariable-calculus/applications-of-multivariable-derivatives/quadratic-approximations/a/the-hessian)"
      ],
      "metadata": {
        "id": "KK130dIG_dUx"
      }
    },
    {
      "cell_type": "markdown",
      "source": [
        "#####**c) (5 puntos)** $z=f\\left(x,y\\right)=4x^{2}+2x+e^{2x}+5y^{2}+e^{3y}+1$"
      ],
      "metadata": {
        "id": "IK2XYdDg_4-d"
      }
    },
    {
      "cell_type": "markdown",
      "source": [
        "La matriz Hessiana para este ejercicio está dada por las siguiente derivadas de segundo orden:\n",
        "\n",
        "* $f_{xx}\\left(x,y\\right)=\\frac{\\delta}{\\delta x}\\left(2e^{2x}+8x+2\\right)=4e^{2x}+10$\n",
        "\n",
        "* $f_{xy}\\left(x,y\\right)=\\frac{\\delta}{\\delta y}\\left(2e^{2x}+8x+2\\right)=0$\n",
        "\n",
        "* $f_{yx}\\left(x,y\\right)=\\frac{\\delta}{\\delta x}\\left(3e^{3y}+10y\\right)=0$\n",
        "\n",
        "* $f_{yy}\\left(x,y\\right)=\\frac{\\delta}{\\delta y}\\left(3e^{3y}+10y\\right)=9e^{3y}+10$\n",
        "\n",
        "> Esto, organizado en lo que llamaríamos la matriz Hessiana, resulta en la siguiente matriz:\n",
        "\n",
        "> $\\mathbf{H}f\\left(x,y\\right)=\\left[\\begin{array}{cc}\n",
        "f_{xx}\\left(x,y\\right) & f_{yx}\\left(x,y\\right)\\\\\n",
        "f_{xy}\\left(x,y\\right) & f_{yy}\\left(x,y\\right)\n",
        "\\end{array}\\right]=\\left[\\begin{array}{cc}\n",
        "4e^{2x}+10 & 0\\\\\n",
        "0 & 9e^{3y}+10\n",
        "\\end{array}\\right]$\n",
        "\n",
        "Al evaluar esta matriz con los valores de los dos puntos respectivos, se obtienen las siguientes matrices:\n",
        "\n",
        "1. Para el punto $P_{0}=\\left(2,1\\right)$, la matriz resultante está dada por:\n",
        "\n",
        "> $=\\left[\\begin{array}{cc}\n",
        "4e^{4}+10 & 0\\\\\n",
        "0 & 9e^{3}+10\n",
        "\\end{array}\\right]$\n",
        "\n",
        "2. Para el punto $P_{0}=\\left(5,7\\right)$, la matriz resultante está dada por:\n",
        "\n",
        "> $=\\left[\\begin{array}{cc}\n",
        "4e^{10}+10 & 0\\\\\n",
        "0 & 9e^{21}+10\n",
        "\\end{array}\\right]$"
      ],
      "metadata": {
        "id": "imCmMiZG2aO0"
      }
    },
    {
      "cell_type": "markdown",
      "source": [
        "###**3- (50 puntos) Probabilidades: Algoritmo de Maximización de la Esperanza**"
      ],
      "metadata": {
        "id": "ntAgHSFflSj7"
      }
    },
    {
      "cell_type": "markdown",
      "source": [
        "A continuación, implemente el algoritmo de maximización de la esperanza (descrito en el material del curso), usando la definición y descripción de las siguientes funciones como base:"
      ],
      "metadata": {
        "id": "bpB9bisoAU0p"
      }
    },
    {
      "cell_type": "markdown",
      "source": [
        "####1. **(5 puntos)** Función ***generate_data***:"
      ],
      "metadata": {
        "id": "HBfWg6z-AYIp"
      }
    },
    {
      "cell_type": "markdown",
      "source": [
        "Implemente la función *generate_data* la cual reciba la cantidad de observaciones unidimensionales total a generar $N$, y los parámetros correspondientes a $K=2$ funciones de densidad Gaussianas. Genere los datos siguiendo tales distribuciones, y retorne tal matriz de datos $X\\in\\mathbb{R}^{N}$.\n",
        "\n",
        "* Grafique los datos usando un *scatter plot* junto con las gráficas de la función de densidad de probabilidad, en la misma figura (gráfico)."
      ],
      "metadata": {
        "id": "XzG4dsU4A88q"
      }
    },
    {
      "cell_type": "code",
      "source": [
        "def get_color(i):\n",
        "  colors = \"rbgcmykw\"\n",
        "  return colors[i % len(colors)]\n",
        "\n",
        "class Random_Data_Generator:\n",
        "  def __init__(self, total_samples:int, total_distributions:int, offset:int, expected_sigma_range:set):\n",
        "    self.offset = offset\n",
        "    self.total_samples = total_samples\n",
        "    self.total_distributions = total_distributions\n",
        "    self.expected_sigma_range = expected_sigma_range\n",
        "    self.set_default_to_variables()\n",
        "  \n",
        "  def set_default_to_variables(self):\n",
        "    self.curr_offset = 0\n",
        "    self.generated_output = torch.tensor([])\n",
        "    self.real_parameters = torch.zeros(self.total_distributions, 2)\n",
        "    self.samples_per_tensor = self.total_samples // self.total_distributions\n",
        "  \n",
        "  def generate_data(self):\n",
        "    self.y = torch.zeros(self.samples_per_tensor)\n",
        "    output = torch.stack(self.generate_data_aux(self.samples_per_tensor))\n",
        "    self.generated_output = output.view(*output.shape[:0], -1, *output.shape[self.total_distributions:])\n",
        "  \n",
        "  def generate_data_aux(self, n_aux:int, curr_dist:int=0):\n",
        "    sig_const = self.expected_sigma_range\n",
        "    st = self.real_parameters[curr_dist][1] = random.randint(sig_const[0], sig_const[1])\n",
        "    mu = self.real_parameters[curr_dist][0] = self.curr_offset + self.offset - st\n",
        "    \n",
        "    x = torch.normal(mean=mu, std=st, size=(1, n_aux))[0]\n",
        "    xcord = torch.linspace(torch.min(x) - st, torch.max(x) + st, 100)\n",
        "    \n",
        "    plt.plot(xcord, stats.norm.pdf(xcord, mu, st))\n",
        "    plt.scatter(x, self.y, c = get_color(curr_dist))\n",
        "    res_aux = [x]\n",
        "\n",
        "    if curr_dist + 1 < self.total_distributions:\n",
        "      new_k = curr_dist + 1\n",
        "      self.curr_offset = self.curr_offset + self.offset\n",
        "      new_data = self.generate_data_aux(n_aux, new_k)\n",
        "      res_aux.extend(new_data)\n",
        "    \n",
        "    return res_aux"
      ],
      "metadata": {
        "id": "XXKI7Dv45ENv"
      },
      "execution_count": 323,
      "outputs": []
    },
    {
      "cell_type": "code",
      "source": [
        "generator = Random_Data_Generator(100, 2, 100, (10, 30))\n",
        "generator.generate_data()\n",
        "\n",
        "print('--> La matriz K = ', generator.total_distributions, 'tiene las siguientes '\n",
        "      'muestras: \\n', generator.generated_output, '\\n')\n",
        "\n",
        "print('--> Adicionalmente, los parámetros generados para dichas dimensiones son: ',\n",
        "      '\\n ', generator.real_parameters)"
      ],
      "metadata": {
        "colab": {
          "base_uri": "https://localhost:8080/",
          "height": 612
        },
        "id": "Bky3uzypLqI8",
        "outputId": "8acade7c-6892-4fb5-ea2b-e5e8fa39d66d"
      },
      "execution_count": 359,
      "outputs": [
        {
          "output_type": "stream",
          "name": "stdout",
          "text": [
            "--> La matriz K =  2 tiene las siguientes muestras: \n",
            " tensor([ 84.5857,  83.5873,  63.0666, 107.4922,  89.1362,  65.5418,  73.5512,\n",
            "         50.0076, 108.1133,  90.5325, 118.9127,  83.0328,  95.2991,  49.0087,\n",
            "         68.5641,  70.9093,  60.1742, 108.0247,  50.8358,  83.8428,  26.5412,\n",
            "         79.8729,  73.6482,  96.8771,  75.7554,  83.4366,  70.8377,  80.2118,\n",
            "         62.5272,  74.3400,  51.3767, 103.0857,  86.9871, 107.2020, 119.0687,\n",
            "         40.0695,  93.1550, 121.4835,  91.0607,  69.8930,  84.0217,  78.2061,\n",
            "         81.2689,  58.5065, 112.5520,  97.4059,  96.7700,  92.2188,  85.3769,\n",
            "         80.1714, 214.7469, 185.0915, 184.9984, 183.5539, 206.5923, 180.3115,\n",
            "        185.7505, 181.3452, 172.9384, 174.6109, 169.9350, 193.2048, 169.9612,\n",
            "        215.9236, 201.1938, 177.9794, 162.0985, 207.9254, 177.2962, 159.0701,\n",
            "        196.3406, 208.1045, 187.3262, 192.4387, 201.7889, 184.1960, 192.5028,\n",
            "        167.8289, 181.6864, 200.5700, 173.4283, 171.3294, 182.6675, 186.8152,\n",
            "        171.2095, 191.1961, 161.8703, 160.8908, 204.5155, 199.4715, 168.3011,\n",
            "        190.9377, 203.3362, 196.1768, 189.6451, 188.9402, 169.2471, 170.7192,\n",
            "        187.7510, 151.5467]) \n",
            "\n",
            "--> Adicionalmente, los parámetros generados para dichas dimensiones son:  \n",
            "  tensor([[ 81.,  19.],\n",
            "        [184.,  16.]])\n"
          ]
        },
        {
          "output_type": "display_data",
          "data": {
            "text/plain": [
              "<Figure size 432x288 with 1 Axes>"
            ],
            "image/png": "[encoded data removed]"
          },
          "metadata": {
            "needs_background": "light"
          }
        }
      ]
    },
    {
      "cell_type": "markdown",
      "source": [
        "####2. **(5 puntos)** Función ***init_random_parameters***:"
      ],
      "metadata": {
        "id": "d5EfybHdNv3b"
      }
    },
    {
      "cell_type": "markdown",
      "source": [
        "Implemente la función init_random_parameters la cual genere una matriz de $P\\in\\mathbb{R}^{K\\times2}$ dimensiones, con los parámetros de las funciones de densidad Gaussiana generados completamente al azar.\n",
        "\n",
        "* Muestre un pantallazo donde verifique su funcionamiento correcto con los comentarios asociados."
      ],
      "metadata": {
        "id": "sD8HOlGyP06H"
      }
    },
    {
      "cell_type": "code",
      "source": [
        "def init_random_parameters(k):\n",
        "  return torch.randint(0, generator.curr_offset + generator.offset, (2,k))\n",
        "\n",
        "curr_parameters = init_random_parameters(generator.total_distributions)\n",
        "print('--> Parámetros aleatorios calculados para el inicio del algoritmo: \\n',\n",
        "      curr_parameters)"
      ],
      "metadata": {
        "colab": {
          "base_uri": "https://localhost:8080/"
        },
        "id": "49EkYgK0Nwlk",
        "outputId": "18c020b1-c982-4873-a5bd-e26849340fe9"
      },
      "execution_count": 358,
      "outputs": [
        {
          "output_type": "stream",
          "name": "stdout",
          "text": [
            "--> Parámetros aleatorios calculados para el inicio del algoritmo: \n",
            " tensor([[ 18, 187],\n",
            "        [160,  70]])\n"
          ]
        }
      ]
    },
    {
      "cell_type": "markdown",
      "source": [
        "> El objetivo con esta función es calcular la matriz de parámetros de la forma más sencilla y directa posible. Para lograr esto, los únicos límites aplicados para la definición del *aleatorio* es el siguiente rango permitido para calcular los valores aleatorios que estarán en la matriz de salida:\n",
        "\n",
        "> $[0, curr\\_offset + offset]$\n",
        "\n",
        "> Este rango viene definido enteramente desde la función anterior de *generate_data* donde:\n",
        "\n",
        "* El límite inferior 0 corresponde con el valor inicial que tiene la variable $curr\\_offset$ establecido por defecto en la clase generadora de datos aleatorios.\n",
        "* El límite superior $curr\\_offset + offset$ corresponde a un $offset$ que es definido antes de ejecutar la función de *generate_data* y a un $curr\\_offset$ que va incrementando $offset$ con cada dimensión de data que se agrega al dataset final de pruebas.\n",
        "\n",
        "> De esta forma, se garantiza que los valores aleatorios vayan a caer en un rango de valores que no sea el máximo requerido al momento de generar la muestra. Esto evita valores que se alejen mucho por número muy pequeños o muy grandes.\n",
        "\n",
        "> Sin embargo, este rango no evita que se caiga en sitios muy aislados de las *islas* generadas por los K grupos de datos, de forma que es muy mejorable para el punto final de esta pregunta."
      ],
      "metadata": {
        "id": "WMUbPtRVadrF"
      }
    }
  ]
}
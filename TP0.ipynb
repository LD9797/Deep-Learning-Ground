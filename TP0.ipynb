{
  "nbformat": 4,
  "nbformat_minor": 0,
  "metadata": {
    "colab": {
      "provenance": [],
      "collapsed_sections": [
        "Wi0XP-bHYS8r"
      ]
    },
    "kernelspec": {
      "name": "python3",
      "display_name": "Python 3"
    },
    "language_info": {
      "name": "python"
    }
  },
  "cells": [
    {
      "cell_type": "markdown",
      "source": [
        "###**Import de librerías**"
      ],
      "metadata": {
        "id": "KR1GpX8m_l1B"
      }
    },
    {
      "cell_type": "code",
      "execution_count": 3,
      "metadata": {
        "id": "DxsNjlpLyGtI"
      },
      "outputs": [],
      "source": [
        "import math\n",
        "import torch\n",
        "import random\n",
        "from matplotlib import cm\n",
        "import scipy.stats as stats\n",
        "import matplotlib.pyplot as plt"
      ]
    },
    {
      "cell_type": "markdown",
      "source": [
        "###**2- (30 puntos) Funciones multivariable**\n"
      ],
      "metadata": {
        "id": "Wi0XP-bHYS8r"
      }
    },
    {
      "cell_type": "markdown",
      "source": [
        "####1. **El vector gradiente**:\n",
        "\n",
        "Para cada una de las siguientes funciones multivariable: grafique su superficie, calcule el vector gradiente manualmente, evaluelo y grafique el vector unitario o de largo conveniente para su visualización, en la dirección del gradiente para los dos puntos especificados (en la misma figura de la superficie). Finalmente calcule la magnitud de tal vector gradiente en cada punto."
      ],
      "metadata": {
        "id": "lGZZmVP4_NXg"
      }
    },
    {
      "cell_type": "markdown",
      "source": [
        "#####**c) (5 puntos)** $z=f\\left(x,y\\right)=4x^{2}+2x+e^{2x}+5y^{2}+e^{3y}+1$, evaluación del gradiente en los puntos $P_{0}=\\left(2,1\\right)$ y $P_{1}=\\left(5,7\\right)$.\n",
        "\n",
        "> Dada la función anterior, el gradiente de la primera función estaría dado por las siguientes derivadas parciales:\n",
        "\n",
        "> $\\nabla f\\left(x,y\\right)=\\begin{cases}\n",
        "\\frac{\\delta}{\\delta x}4x^{2}+2x+e^{2x}+5y^{2}+e^{3y}+1= & 2e^{2x}+8x+2\\\\\n",
        "\\frac{\\delta}{\\delta y}4x^{2}+2x+e^{2x}+5y^{2}+e^{3y}+1= & 3e^{3y}+10y\n",
        "\\end{cases}$"
      ],
      "metadata": {
        "id": "emPgZZ9lq7pr"
      }
    },
    {
      "cell_type": "code",
      "source": [
        "def funcion_c(x, y):\n",
        "  return (4*x**2)+(2*x)+(math.e**(2*x))+(5*(y**2))+(math.e**(3*y))+1\n",
        "\n",
        "def derivada_funcion_c_1(x):\n",
        "  return (2*(math.e**(2*x)))+(8*x)+2\n",
        "\n",
        "def derivada_funcion_c_2(x):\n",
        "  return (3*(math.e**(3*x)))+(10*x)"
      ],
      "metadata": {
        "id": "yi1-zPVmqQlW"
      },
      "execution_count": null,
      "outputs": []
    },
    {
      "cell_type": "markdown",
      "source": [
        "> Al evaluar ambos puntos, siendo estos $P_{0}=\\left(2,1\\right)$ y $P_{1}=\\left(5,7\\right)$, se obtienen los siguientes resultados:"
      ],
      "metadata": {
        "id": "_1yxXGcaz44i"
      }
    },
    {
      "cell_type": "code",
      "source": [
        "gradiente_punto_0 = torch.tensor([derivada_funcion_c_1(2), derivada_funcion_c_2(1), 0])\n",
        "print(\"Gradiente evaluado en P0: \", gradiente_punto_0)\n",
        "print(\"Magnitud del gradiente evaluado en P0: \", torch.norm(gradiente_punto_0), \"\\n\")\n",
        "\n",
        "gradiente_punto_1 = torch.tensor([derivada_funcion_c_1(5), derivada_funcion_c_2(7), 0])\n",
        "print(\"Gradiente evaluado en P1: \", gradiente_punto_1)\n",
        "print(\"Magnitud del gradiente evaluado en P1: \", torch.norm(gradiente_punto_1))"
      ],
      "metadata": {
        "colab": {
          "base_uri": "https://localhost:8080/"
        },
        "id": "6l-dRR3EGt-5",
        "outputId": "f3be70ae-cd79-45a3-d460-e1ade5b56fd4"
      },
      "execution_count": null,
      "outputs": [
        {
          "output_type": "stream",
          "name": "stdout",
          "text": [
            "Gradiente evaluado en P0:  tensor([127.1963,  70.2566,   0.0000])\n",
            "Magnitud del gradiente evaluado en P0:  tensor(145.3096) \n",
            "\n",
            "Gradiente evaluado en P1:  tensor([4.4095e+04, 3.9564e+09, 0.0000e+00])\n",
            "Magnitud del gradiente evaluado en P1:  tensor(3.9564e+09)\n"
          ]
        }
      ]
    },
    {
      "cell_type": "markdown",
      "source": [
        "> A continuación se presenta el gráfico respectivo: la superficie abarcada por la función en la maya de coordenadas junto con los dos vectores resultantes de la evaluación de cada uno de los dos puntos especificados en el vector gradiente obtenido de las derivadas parciales anteriormente calculadas:"
      ],
      "metadata": {
        "id": "3uwopca7PWQu"
      }
    },
    {
      "cell_type": "code",
      "source": [
        "def evaluar_grandiente(inicio, arrange):\n",
        "    xs = torch.linspace(arrange[0], arrange[1], steps=256)  # x1\n",
        "    ys = torch.linspace(arrange[0], arrange[1], steps=256)  # x2\n",
        "    x, y = torch.meshgrid(xs, ys, indexing='xy')\n",
        "\n",
        "    #  Se presentan los vectores y la superficie de la función en el resultado\n",
        "    ax = plt.axes(projection='3d')\n",
        "    ax.quiver(inicio[0], inicio[1], inicio[2], gradiente_punto_0[0], gradiente_punto_0[1], gradiente_punto_0[2])\n",
        "    ax.quiver(inicio[0], inicio[1], inicio[2], gradiente_punto_1[0], gradiente_punto_1[1], gradiente_punto_1[2])\n",
        "    ax.plot_surface(x.numpy(), y.numpy(), funcion_c(x, y).numpy(), cmap=cm.coolwarm, linewidth=0, antialiased=False)\n",
        "    plt.show()\n",
        "\n",
        "evaluar_grandiente([0, 0, 0], [-1, 1])"
      ],
      "metadata": {
        "colab": {
          "base_uri": "https://localhost:8080/",
          "height": 248
        },
        "id": "NMutg5RbyU1m",
        "outputId": "967149cb-1cac-426f-b9fb-8585f053127f"
      },
      "execution_count": null,
      "outputs": [
        {
          "output_type": "display_data",
          "data": {
            "text/plain": [
              "<Figure size 432x288 with 1 Axes>"
            ],
            "image/png": "[encoded data removed]"
          },
          "metadata": {
            "needs_background": "light"
          }
        }
      ]
    },
    {
      "cell_type": "markdown",
      "source": [
        "####2. **(10 puntos)** En general, investigue ¿qué es y que indica la matriz Hessiana?"
      ],
      "metadata": {
        "id": "D-sHfchxULlY"
      }
    },
    {
      "cell_type": "markdown",
      "source": [
        "> Sobre las aplicaciones de esta matriz, se pueden citar los siguientes puntos:\n",
        "\n",
        "* Permite encontrar ya sea máximos o mínimos de funciones multivariable. Para conseguir esto, el procedimiento a seguir consiste de obtener los puntos críticos de la función (igualando a cero el vector gradiente y obteniendo los puntos respectivos del despeje) y operarlos con la matriz Hessiana.\n",
        "\n",
        "> Una vez obtenido el resultado, la matriz que se consiguió debe ser evaluada bajo el criterio de: definida positiva, definida negativa, indefinida, etc (lo cual puede ser establecido con el Criterio de los valores propios o con el Criterio de Sylvester).\n",
        "\n",
        "> Dependiendo del tipo de matriz obtenida, así podrá definirse el punto que fue utilizado para el cálculo (máximo, mínimo o un punto neutro).\n",
        "\n",
        "\n",
        "* También permite saber si una función es cóncava o convexa con respecto a un conjunto de puntos pertenecientes a la función, aplicando nuevamente el concepto de definida positiva, definida negativa, indefinida, etc.\n",
        "\n",
        "Fuentes utilizadas para cálculo y usos:\n",
        "* [Matriz Hessiana (o Hessiano)](https://www.matricesydeterminantes.com/matrices/matriz-hessiana-hessiano-2x2-3x3/)\n",
        "* [La matriz hessiana](https://es.khanacademy.org/math/multivariable-calculus/applications-of-multivariable-derivatives/quadratic-approximations/a/the-hessian)"
      ],
      "metadata": {
        "id": "KK130dIG_dUx"
      }
    },
    {
      "cell_type": "markdown",
      "source": [
        "#####**c) (5 puntos)** $z=f\\left(x,y\\right)=4x^{2}+2x+e^{2x}+5y^{2}+e^{3y}+1$"
      ],
      "metadata": {
        "id": "IK2XYdDg_4-d"
      }
    },
    {
      "cell_type": "markdown",
      "source": [
        "La matriz Hessiana para este ejercicio está dada por las siguiente derivadas de segundo orden:\n",
        "\n",
        "* $f_{xx}\\left(x,y\\right)=\\frac{\\delta}{\\delta x}\\left(2e^{2x}+8x+2\\right)=4e^{2x}+10$\n",
        "\n",
        "* $f_{xy}\\left(x,y\\right)=\\frac{\\delta}{\\delta y}\\left(2e^{2x}+8x+2\\right)=0$\n",
        "\n",
        "* $f_{yx}\\left(x,y\\right)=\\frac{\\delta}{\\delta x}\\left(3e^{3y}+10y\\right)=0$\n",
        "\n",
        "* $f_{yy}\\left(x,y\\right)=\\frac{\\delta}{\\delta y}\\left(3e^{3y}+10y\\right)=9e^{3y}+10$\n",
        "\n",
        "> Esto, organizado en lo que llamaríamos la matriz Hessiana, resulta en la siguiente matriz:\n",
        "\n",
        "> $\\mathbf{H}f\\left(x,y\\right)=\\left[\\begin{array}{cc}\n",
        "f_{xx}\\left(x,y\\right) & f_{yx}\\left(x,y\\right)\\\\\n",
        "f_{xy}\\left(x,y\\right) & f_{yy}\\left(x,y\\right)\n",
        "\\end{array}\\right]=\\left[\\begin{array}{cc}\n",
        "4e^{2x}+10 & 0\\\\\n",
        "0 & 9e^{3y}+10\n",
        "\\end{array}\\right]$\n",
        "\n",
        "Al evaluar esta matriz con los valores de los dos puntos respectivos, se obtienen las siguientes matrices:\n",
        "\n",
        "1. Para el punto $P_{0}=\\left(2,1\\right)$, la matriz resultante está dada por:\n",
        "\n",
        "> $=\\left[\\begin{array}{cc}\n",
        "4e^{4}+10 & 0\\\\\n",
        "0 & 9e^{3}+10\n",
        "\\end{array}\\right]$\n",
        "\n",
        "2. Para el punto $P_{0}=\\left(5,7\\right)$, la matriz resultante está dada por:\n",
        "\n",
        "> $=\\left[\\begin{array}{cc}\n",
        "4e^{10}+10 & 0\\\\\n",
        "0 & 9e^{21}+10\n",
        "\\end{array}\\right]$"
      ],
      "metadata": {
        "id": "imCmMiZG2aO0"
      }
    },
    {
      "cell_type": "markdown",
      "source": [
        "###**3- (50 puntos) Probabilidades: Algoritmo de Maximización de la Esperanza**"
      ],
      "metadata": {
        "id": "ntAgHSFflSj7"
      }
    },
    {
      "cell_type": "markdown",
      "source": [
        "A continuación, implemente el algoritmo de maximización de la esperanza (descrito en el material del curso), usando la definición y descripción de las siguientes funciones como base:"
      ],
      "metadata": {
        "id": "bpB9bisoAU0p"
      }
    },
    {
      "cell_type": "markdown",
      "source": [
        "####1. **(5 puntos)** Función ***generate_data***:"
      ],
      "metadata": {
        "id": "HBfWg6z-AYIp"
      }
    },
    {
      "cell_type": "markdown",
      "source": [
        "Implemente la función *generate_data* la cual reciba la cantidad de observaciones unidimensionales total a generar $N$, y los parámetros correspondientes a $K=2$ funciones de densidad Gaussianas. Genere los datos siguiendo tales distribuciones, y retorne tal matriz de datos $X\\in\\mathbb{R}^{N}$.\n",
        "\n",
        "* Grafique los datos usando un *scatter plot* junto con las gráficas de la función de densidad de probabilidad, en la misma figura (gráfico)."
      ],
      "metadata": {
        "id": "XzG4dsU4A88q"
      }
    },
    {
      "cell_type": "code",
      "source": [
        "def get_color(i):\n",
        "  colors = \"rbgcmykw\"\n",
        "  return colors[i % len(colors)]\n",
        "\n",
        "def init_random_parameters(k:int, expected_mean_std:torch.tensor):\n",
        "  return generate_parameters(k, expected_mean_std, torch.zeros(k, 2))\n",
        "\n",
        "def generate_parameters(k:int, rand_range:torch.tensor, base:torch.tensor):\n",
        "  \n",
        "  expected_mean = torch.zeros(k).uniform_(rand_range[0][0], rand_range[0][1])\n",
        "  expected_std = torch.zeros(k).uniform_(rand_range[1][0], rand_range[1][1])\n",
        "  generated_randoms = torch.t(torch.stack([expected_mean, expected_std]))\n",
        "\n",
        "  init_masc = torch.where(base == 0, 1, 0)\n",
        "  row_validation = torch.sum(init_masc, 1).unsqueeze(1)\n",
        "  masc = torch.where(row_validation == 2, torch.tensor([1, 1]), torch.tensor([0, 0]))\n",
        "  random_parameters = base + ((masc * generated_randoms))\n",
        "\n",
        "  return random_parameters\n",
        "\n",
        "class Random_Data_Generator:\n",
        "  def __init__(self, n:int, k:int, expected_mean_std:torch.tensor):\n",
        "    self.n = n\n",
        "    self.k = k\n",
        "    self.expected_mean_std = expected_mean_std\n",
        "  \n",
        "  def set_default_to_variables(self):\n",
        "    self.n_per_tensor = self.n // self.k\n",
        "    self.generated_output = torch.tensor([])\n",
        "    self.parameters = init_random_parameters(self.k, self.expected_mean_std)\n",
        "\n",
        "  def generate_data(self, plot_data:bool):\n",
        "    self.set_default_to_variables()\n",
        "    self.y = torch.zeros(self.n_per_tensor)\n",
        "    output = torch.stack(self.generate_data_aux(plot_data))\n",
        "    self.generated_output = output.view(*output.shape[:0], -1, *output.shape[self.k:])\n",
        "\n",
        "    if plot_data:\n",
        "      plt.show()\n",
        "  \n",
        "  def generate_data_aux(self, plot_data, curr_dist:int=0):\n",
        "    n_aux = self.n_per_tensor\n",
        "    mu = self.parameters[curr_dist][0]\n",
        "    std = self.parameters[curr_dist][1]\n",
        "\n",
        "    normal = torch.distributions.Normal(mu, std)\n",
        "    x = normal.sample((n_aux, 1)).squeeze()\n",
        "    #x = torch.normal(mean=mu, std=std, size=(1, n_aux))[0]\n",
        "\n",
        "    if plot_data:\n",
        "      xcord = torch.linspace(torch.min(x) - std, torch.max(x) + std, 100)\n",
        "      plt.plot(xcord, stats.norm.pdf(xcord, mu, std))\n",
        "      plt.scatter(x, self.y, c = get_color(curr_dist))\n",
        "    \n",
        "    res_aux = [x]\n",
        "\n",
        "    if curr_dist + 1 < self.k:\n",
        "      new_k = curr_dist + 1\n",
        "      new_data = self.generate_data_aux(plot_data, new_k)\n",
        "      res_aux.extend(new_data)\n",
        "    \n",
        "    return res_aux"
      ],
      "metadata": {
        "id": "XXKI7Dv45ENv"
      },
      "execution_count": 50,
      "outputs": []
    },
    {
      "cell_type": "code",
      "source": [
        "generator = Random_Data_Generator(100, 2, (20, 5))\n",
        "generator.generate_data()\n",
        "\n",
        "print('--> La matriz K = ', generator.k, 'tiene las siguientes '\n",
        "      'muestras: \\n', generator.generated_output, '\\n')\n",
        "\n",
        "print('--> Adicionalmente, los parámetros generados para dichas dimensiones son: ',\n",
        "      '\\n ', generator.parameters)"
      ],
      "metadata": {
        "colab": {
          "base_uri": "https://localhost:8080/",
          "height": 236
        },
        "id": "Bky3uzypLqI8",
        "outputId": "87a1874b-d8b9-4f78-95f5-5b81c1a4b13e"
      },
      "execution_count": 49,
      "outputs": [
        {
          "output_type": "error",
          "ename": "TypeError",
          "evalue": "ignored",
          "traceback": [
            "\u001b[0;31m---------------------------------------------------------------------------\u001b[0m",
            "\u001b[0;31mTypeError\u001b[0m                                 Traceback (most recent call last)",
            "\u001b[0;32m<ipython-input-49-4d59e4e04295>\u001b[0m in \u001b[0;36m<module>\u001b[0;34m\u001b[0m\n\u001b[1;32m      1\u001b[0m \u001b[0mgenerator\u001b[0m \u001b[0;34m=\u001b[0m \u001b[0mRandom_Data_Generator\u001b[0m\u001b[0;34m(\u001b[0m\u001b[0;36m100\u001b[0m\u001b[0;34m,\u001b[0m \u001b[0;36m2\u001b[0m\u001b[0;34m,\u001b[0m \u001b[0;34m(\u001b[0m\u001b[0;36m20\u001b[0m\u001b[0;34m,\u001b[0m \u001b[0;36m5\u001b[0m\u001b[0;34m)\u001b[0m\u001b[0;34m)\u001b[0m\u001b[0;34m\u001b[0m\u001b[0;34m\u001b[0m\u001b[0m\n\u001b[0;32m----> 2\u001b[0;31m \u001b[0mgenerator\u001b[0m\u001b[0;34m.\u001b[0m\u001b[0mgenerate_data\u001b[0m\u001b[0;34m(\u001b[0m\u001b[0;34m)\u001b[0m\u001b[0;34m\u001b[0m\u001b[0;34m\u001b[0m\u001b[0m\n\u001b[0m\u001b[1;32m      3\u001b[0m \u001b[0;34m\u001b[0m\u001b[0m\n\u001b[1;32m      4\u001b[0m print('--> La matriz K = ', generator.k, 'tiene las siguientes '\n\u001b[1;32m      5\u001b[0m       'muestras: \\n', generator.generated_output, '\\n')\n",
            "\u001b[0;31mTypeError\u001b[0m: generate_data() missing 1 required positional argument: 'plot_data'"
          ]
        }
      ]
    },
    {
      "cell_type": "markdown",
      "source": [
        "####2. **(5 puntos)** Función ***init_random_parameters***:"
      ],
      "metadata": {
        "id": "d5EfybHdNv3b"
      }
    },
    {
      "cell_type": "markdown",
      "source": [
        "Implemente la función *init_random_parameters* la cual genere una matriz de $P\\in\\mathbb{R}^{K\\times2}$ dimensiones, con los parámetros de las funciones de densidad Gaussiana generados completamente al azar.\n",
        "\n",
        "* Muestre un pantallazo donde verifique su funcionamiento correcto con los comentarios asociados."
      ],
      "metadata": {
        "id": "sD8HOlGyP06H"
      }
    },
    {
      "cell_type": "code",
      "source": [
        "curr_parameters = generator.init_random_parameters(generator.k, 20, 5)\n",
        "print('--> Parámetros aleatorios calculados para el inicio del algoritmo: \\n', curr_parameters)"
      ],
      "metadata": {
        "colab": {
          "base_uri": "https://localhost:8080/"
        },
        "id": "49EkYgK0Nwlk",
        "outputId": "ac5e20f8-e66a-45ce-c54e-328d39fb0be6"
      },
      "execution_count": null,
      "outputs": [
        {
          "output_type": "stream",
          "name": "stdout",
          "text": [
            "--> Parámetros aleatorios calculados para el inicio del algoritmo: \n",
            " tensor([[ 7.0331,  4.9993],\n",
            "        [11.5243,  3.5850]])\n"
          ]
        }
      ]
    },
    {
      "cell_type": "markdown",
      "source": [
        "> El objetivo con esta función es calcular la matriz de parámetros de la forma más sencilla y directa posible. Para lograr esto, los únicos límites aplicados para la definición del *aleatorio* es el siguiente rango permitido para calcular los valores aleatorios que estarán en la matriz de salida:\n",
        "\n",
        "> $[0, curr\\_offset + offset]$\n",
        "\n",
        "> Este rango viene definido enteramente desde la función anterior de *generate_data* donde:\n",
        "\n",
        "* El límite inferior 0 corresponde con el valor inicial que tiene la variable $curr\\_offset$ establecido por defecto en la clase generadora de datos aleatorios.\n",
        "* El límite superior $curr\\_offset + offset$ corresponde a un $offset$ que es definido antes de ejecutar la función de *generate_data* y a un $curr\\_offset$ que va incrementando $offset$ con cada dimensión de data que se agrega al dataset final de pruebas.\n",
        "\n",
        "> De esta forma, se garantiza que los valores aleatorios vayan a caer en un rango de valores que no sea el máximo requerido al momento de generar la muestra. Esto evita valores que se alejen mucho por número muy pequeños o muy grandes.\n",
        "\n",
        "> Sin embargo, este rango no evita que se caiga en sitios muy aislados de las *islas* generadas por los K grupos de datos, de forma que es muy mejorable para el punto final de esta pregunta."
      ],
      "metadata": {
        "id": "WMUbPtRVadrF"
      }
    },
    {
      "cell_type": "markdown",
      "source": [
        "####3. **(5 puntos)** Función ***calculate_likelihood***:"
      ],
      "metadata": {
        "id": "BO4NQMcyZKCF"
      }
    },
    {
      "cell_type": "markdown",
      "source": [
        "Implemente la función *calculate_likelihood_gaussian_observations(x_n, mu_k, sigma_k)* la cual calcule la verosimilitud de una observacion específica $x_n$, para una función de densidad Gaussiana con parámetros $µ_k$ y $σ_k$.\n",
        "\n",
        "* Muestre un pantallazo donde verifique su funcionamiento correcto con los comentarios asociados."
      ],
      "metadata": {
        "id": "SaQW6oTNZSmY"
      }
    },
    {
      "cell_type": "code",
      "source": [
        "def calculate_likelihood_per_group_of_parameters(parameters:torch.tensor, samples:torch.tensor):\n",
        "  bpart = (1 / math.sqrt(2 * math.pi * parameters[1]**2))\n",
        "  fpart = math.e**-(((samples - parameters[0])**2) / (2 * parameters[1]**2))\n",
        "  \n",
        "  return bpart * fpart\n",
        "\n",
        "def calculate_likelihood(parameters:torch.tensor, samples:torch.tensor):\n",
        "  mean = parameters[:, 0][:, None]\n",
        "  std = parameters[:, 1][:, None]\n",
        "  \n",
        "  bpart = (1 / torch.sqrt(2 * math.pi * std**2))\n",
        "  fpart = math.e**(-(1/2) * ((samples.repeat(2, 1) - mean) / std)**2)\n",
        "\n",
        "  return torch.nan_to_num(bpart * fpart)"
      ],
      "metadata": {
        "id": "XRJVORmFax6v"
      },
      "execution_count": 35,
      "outputs": []
    },
    {
      "cell_type": "markdown",
      "source": [
        "> Demostración del funcionamiento de la función de likelihood para todos los componentes presentes en el listado de data generada aleatoriamente en comparación con los parámetros generados aleatoriamente."
      ],
      "metadata": {
        "id": "WqSJgRFtcStz"
      }
    },
    {
      "cell_type": "code",
      "source": [
        "print('--> Cálculo de la verosimilitud para los pares de parámetros calculados ',\n",
        "      'aleatoriamente: \\n', calculate_likelihood(curr_parameters, generator.generated_output))"
      ],
      "metadata": {
        "id": "DCNX1YibXjGR",
        "colab": {
          "base_uri": "https://localhost:8080/"
        },
        "outputId": "04e9f261-d436-48bd-aad7-67508c8838bd"
      },
      "execution_count": 34,
      "outputs": [
        {
          "output_type": "stream",
          "name": "stdout",
          "text": [
            "tensor([[39.0423],\n",
            "        [17.1612]])\n",
            "tensor([39.0423, 17.1612])\n",
            "--> Cálculo de la verosimilitud para los pares de parámetros calculados  aleatoriamente: \n",
            " tensor([[0.0076, 0.0069, 0.0074, 0.0090, 0.0094, 0.0070, 0.0075, 0.0070, 0.0071,\n",
            "         0.0089, 0.0069, 0.0070, 0.0094, 0.0079, 0.0079, 0.0068, 0.0089, 0.0079,\n",
            "         0.0075, 0.0069, 0.0077, 0.0074, 0.0087, 0.0085, 0.0081, 0.0072, 0.0070,\n",
            "         0.0080, 0.0078, 0.0070, 0.0072, 0.0076, 0.0090, 0.0069, 0.0087, 0.0078,\n",
            "         0.0069, 0.0089, 0.0069, 0.0072, 0.0064, 0.0068, 0.0080, 0.0091, 0.0067,\n",
            "         0.0085, 0.0085, 0.0080, 0.0070, 0.0093, 0.0100, 0.0102, 0.0100, 0.0102,\n",
            "         0.0101, 0.0102, 0.0102, 0.0101, 0.0102, 0.0101, 0.0102, 0.0101, 0.0102,\n",
            "         0.0102, 0.0102, 0.0102, 0.0102, 0.0102, 0.0102, 0.0101, 0.0097, 0.0101,\n",
            "         0.0102, 0.0102, 0.0102, 0.0102, 0.0100, 0.0102, 0.0101, 0.0102, 0.0102,\n",
            "         0.0101, 0.0100, 0.0101, 0.0102, 0.0102, 0.0097, 0.0102, 0.0101, 0.0100,\n",
            "         0.0102, 0.0101, 0.0102, 0.0102, 0.0097, 0.0102, 0.0102, 0.0102, 0.0102,\n",
            "         0.0101],\n",
            "        [0.0223, 0.0198, 0.0219, 0.0221, 0.0204, 0.0205, 0.0220, 0.0203, 0.0208,\n",
            "         0.0225, 0.0199, 0.0203, 0.0203, 0.0230, 0.0230, 0.0194, 0.0225, 0.0230,\n",
            "         0.0221, 0.0198, 0.0225, 0.0219, 0.0229, 0.0232, 0.0231, 0.0211, 0.0205,\n",
            "         0.0230, 0.0227, 0.0203, 0.0209, 0.0223, 0.0220, 0.0200, 0.0229, 0.0227,\n",
            "         0.0199, 0.0225, 0.0198, 0.0211, 0.0175, 0.0195, 0.0231, 0.0218, 0.0191,\n",
            "         0.0232, 0.0231, 0.0230, 0.0203, 0.0210, 0.0148, 0.0093, 0.0039, 0.0102,\n",
            "         0.0046, 0.0104, 0.0088, 0.0041, 0.0103, 0.0130, 0.0070, 0.0117, 0.0061,\n",
            "         0.0096, 0.0062, 0.0099, 0.0057, 0.0099, 0.0088, 0.0043, 0.0179, 0.0122,\n",
            "         0.0083, 0.0090, 0.0106, 0.0078, 0.0035, 0.0083, 0.0125, 0.0103, 0.0093,\n",
            "         0.0128, 0.0145, 0.0129, 0.0066, 0.0074, 0.0182, 0.0102, 0.0132, 0.0033,\n",
            "         0.0058, 0.0133, 0.0087, 0.0088, 0.0174, 0.0074, 0.0090, 0.0093, 0.0111,\n",
            "         0.0134]])\n"
          ]
        }
      ]
    },
    {
      "cell_type": "markdown",
      "source": [
        "####4. **(5 puntos)** Función ***calculate_membership_dataset***:"
      ],
      "metadata": {
        "id": "TRHdOprScuep"
      }
    },
    {
      "cell_type": "markdown",
      "source": [
        "Implemente la función *calculate_membership_dataset(X_dataset,\n",
        "Parameters_matrix)*, la cual, usando la matriz de parámetros $P$ y la función\n",
        "anteriormente implementada *calculate_likelihood_gaussian_observation*, defina por cada observación $x_n ∈ X$ la pertenencia o membresía a cada cluster $k = 1, ... K$, en una matriz binaria $M ∈ R^{N×K}$. Retorne tal matriz de membresía $M$.\n",
        "\n",
        "* Muestre un pantallazo donde verifique su funcionamiento correcto con los comentarios asociados."
      ],
      "metadata": {
        "id": "Qxsyjuxmc-DH"
      }
    },
    {
      "cell_type": "code",
      "source": [
        "def calculate_membership_dataset(parameters:torch.tensor, samples:torch.tensor):\n",
        "  original = calculate_likelihood(parameters, samples)\n",
        "  transpose_o = torch.t(original)\n",
        "  maxvalues = torch.amax(transpose_o, 1)\n",
        "  return torch.where(original == maxvalues, 1.0, 0.0)"
      ],
      "metadata": {
        "id": "zZF6DFsxooBF"
      },
      "execution_count": 46,
      "outputs": []
    },
    {
      "cell_type": "markdown",
      "source": [
        "> En el anterior resultado se presentan los resultados obtenidos para cada uno de los grupos de parámetros aplicables para valorar en comparación con el modelo generado aleatoriamente."
      ],
      "metadata": {
        "id": "mTv4t_9bYnBD"
      }
    },
    {
      "cell_type": "markdown",
      "source": [
        "Se tienen como aleatorios actuales>\n",
        "\n",
        " tensor([[ 63,  32],\n",
        "        [168,  11]])"
      ],
      "metadata": {
        "id": "rp4NdAheRG24"
      }
    },
    {
      "cell_type": "code",
      "source": [
        "def recalculate_parameters(one_hot_vector, samples):\n",
        "  values_per_membership = one_hot_vector * samples\n",
        "  transpose = torch.t(values_per_membership)\n",
        "\n",
        "  n_aux = torch.count_nonzero(transpose, 0)\n",
        "  mean = torch.sum(values_per_membership, 1) / n_aux\n",
        "\n",
        "  anti_neg_mean = torch.where(transpose == 0, 1, 0)\n",
        "  anti_neg_mean = (anti_neg_mean * mean) + transpose\n",
        "\n",
        "  std = torch.sqrt(torch.sum(torch.t((anti_neg_mean - mean)**2), 1) / n_aux)\n",
        "  return torch.nan_to_num(torch.t(torch.stack([mean, std])))"
      ],
      "metadata": {
        "id": "_ZEdN3C4OVCp"
      },
      "execution_count": 125,
      "outputs": []
    },
    {
      "cell_type": "code",
      "source": [
        "expected_mean_std = torch.tensor([[10.0, 100.0], [3.1, 5.2]])\n",
        "\n",
        "generator = Random_Data_Generator(10, 2, expected_mean_std)\n",
        "generator.generate_data(False)\n",
        "curr_parameters = init_random_parameters(generator.k, expected_mean_std)\n",
        "\n",
        "print('Target parameters ', generator.parameters)\n",
        "\n",
        "for i in range(5):\n",
        "  print('Parameter on attempt #', i, ': ', curr_parameters)\n",
        "  xcord = torch.linspace(0, 200, 100)\n",
        "  plt.plot(xcord, stats.norm.pdf(xcord, curr_parameters[0][0], curr_parameters[0][1]))\n",
        "  plt.plot(xcord, stats.norm.pdf(xcord, curr_parameters[1][0], curr_parameters[1][1]))\n",
        "  plt.scatter(generator.generated_output, torch.zeros(generator.n), c='b')\n",
        "  plt.show()\n",
        "\n",
        "  membership = calculate_membership_dataset(curr_parameters, generator.generated_output)\n",
        "  curr_parameters = recalculate_parameters(membership, generator.generated_output)\n",
        "  curr_parameters = generate_parameters(generator.k, expected_mean_std, curr_parameters)"
      ],
      "metadata": {
        "colab": {
          "base_uri": "https://localhost:8080/",
          "height": 1000
        },
        "id": "4fhc4aLZh_PY",
        "outputId": "33f052bd-5aad-4ba0-c30e-088748139403"
      },
      "execution_count": 131,
      "outputs": [
        {
          "output_type": "stream",
          "name": "stdout",
          "text": [
            "Target parameters  tensor([[77.3715,  3.7321],\n",
            "        [47.0101,  3.3624]])\n",
            "Parameter on attempt # 0 :  tensor([[13.6768,  3.4474],\n",
            "        [10.5009,  3.2691]])\n"
          ]
        },
        {
          "output_type": "display_data",
          "data": {
            "text/plain": [
              "<Figure size 432x288 with 1 Axes>"
            ],
            "image/png": "[encoded data removed]"
          },
          "metadata": {
            "needs_background": "light"
          }
        },
        {
          "output_type": "stream",
          "name": "stdout",
          "text": [
            "Parameter on attempt # 1 :  tensor([[63.3269, 14.1805],\n",
            "        [76.9882,  4.2934]])\n"
          ]
        },
        {
          "output_type": "display_data",
          "data": {
            "text/plain": [
              "<Figure size 432x288 with 1 Axes>"
            ],
            "image/png": "[encoded data removed]"
          },
          "metadata": {
            "needs_background": "light"
          }
        },
        {
          "output_type": "stream",
          "name": "stdout",
          "text": [
            "Parameter on attempt # 2 :  tensor([[49.6656,  3.2376],\n",
            "        [76.9882,  4.2934]])\n"
          ]
        },
        {
          "output_type": "display_data",
          "data": {
            "text/plain": [
              "<Figure size 432x288 with 1 Axes>"
            ],
            "image/png": "[encoded data removed]"
          },
          "metadata": {
            "needs_background": "light"
          }
        },
        {
          "output_type": "stream",
          "name": "stdout",
          "text": [
            "Parameter on attempt # 3 :  tensor([[49.6656,  3.2376],\n",
            "        [76.9882,  4.2934]])\n"
          ]
        },
        {
          "output_type": "display_data",
          "data": {
            "text/plain": [
              "<Figure size 432x288 with 1 Axes>"
            ],
            "image/png": "[encoded data removed]"
          },
          "metadata": {
            "needs_background": "light"
          }
        },
        {
          "output_type": "stream",
          "name": "stdout",
          "text": [
            "Parameter on attempt # 4 :  tensor([[49.6656,  3.2376],\n",
            "        [76.9882,  4.2934]])\n"
          ]
        },
        {
          "output_type": "display_data",
          "data": {
            "text/plain": [
              "<Figure size 432x288 with 1 Axes>"
            ],
            "image/png": "[encoded data removed]"
          },
          "metadata": {
            "needs_background": "light"
          }
        }
      ]
    }
  ]
}
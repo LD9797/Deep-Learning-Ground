{
  "nbformat": 4,
  "nbformat_minor": 0,
  "metadata": {
    "colab": {
      "provenance": [],
      "collapsed_sections": [
        "Wi0XP-bHYS8r"
      ]
    },
    "kernelspec": {
      "name": "python3",
      "display_name": "Python 3"
    },
    "language_info": {
      "name": "python"
    }
  },
  "cells": [
    {
      "cell_type": "markdown",
      "source": [
        "###**Import de librerías**"
      ],
      "metadata": {
        "id": "KR1GpX8m_l1B"
      }
    },
    {
      "cell_type": "code",
      "execution_count": 2,
      "metadata": {
        "id": "DxsNjlpLyGtI"
      },
      "outputs": [],
      "source": [
        "import math\n",
        "import torch\n",
        "import random\n",
        "from matplotlib import cm\n",
        "import scipy.stats as stats\n",
        "import matplotlib.pyplot as plt"
      ]
    },
    {
      "cell_type": "markdown",
      "source": [
        "###**2- (30 puntos) Funciones multivariable**\n"
      ],
      "metadata": {
        "id": "Wi0XP-bHYS8r"
      }
    },
    {
      "cell_type": "markdown",
      "source": [
        "####1. **El vector gradiente**:\n",
        "\n",
        "Para cada una de las siguientes funciones multivariable: grafique su superficie, calcule el vector gradiente manualmente, evaluelo y grafique el vector unitario o de largo conveniente para su visualización, en la dirección del gradiente para los dos puntos especificados (en la misma figura de la superficie). Finalmente calcule la magnitud de tal vector gradiente en cada punto."
      ],
      "metadata": {
        "id": "lGZZmVP4_NXg"
      }
    },
    {
      "cell_type": "markdown",
      "source": [
        "#####**c) (5 puntos)** $z=f\\left(x,y\\right)=4x^{2}+2x+e^{2x}+5y^{2}+e^{3y}+1$, evaluación del gradiente en los puntos $P_{0}=\\left(2,1\\right)$ y $P_{1}=\\left(5,7\\right)$.\n",
        "\n",
        "> Dada la función anterior, el gradiente de la primera función estaría dado por las siguientes derivadas parciales:\n",
        "\n",
        "> $\\nabla f\\left(x,y\\right)=\\begin{cases}\n",
        "\\frac{\\delta}{\\delta x}4x^{2}+2x+e^{2x}+5y^{2}+e^{3y}+1= & 2e^{2x}+8x+2\\\\\n",
        "\\frac{\\delta}{\\delta y}4x^{2}+2x+e^{2x}+5y^{2}+e^{3y}+1= & 3e^{3y}+10y\n",
        "\\end{cases}$"
      ],
      "metadata": {
        "id": "emPgZZ9lq7pr"
      }
    },
    {
      "cell_type": "code",
      "source": [
        "def funcion_c(x, y):\n",
        "  return (4*x**2)+(2*x)+(math.e**(2*x))+(5*(y**2))+(math.e**(3*y))+1\n",
        "\n",
        "def derivada_funcion_c_1(x):\n",
        "  return (2*(math.e**(2*x)))+(8*x)+2\n",
        "\n",
        "def derivada_funcion_c_2(x):\n",
        "  return (3*(math.e**(3*x)))+(10*x)"
      ],
      "metadata": {
        "id": "yi1-zPVmqQlW"
      },
      "execution_count": null,
      "outputs": []
    },
    {
      "cell_type": "markdown",
      "source": [
        "> Al evaluar ambos puntos, siendo estos $P_{0}=\\left(2,1\\right)$ y $P_{1}=\\left(5,7\\right)$, se obtienen los siguientes resultados:"
      ],
      "metadata": {
        "id": "_1yxXGcaz44i"
      }
    },
    {
      "cell_type": "code",
      "source": [
        "gradiente_punto_0 = torch.tensor([derivada_funcion_c_1(2), derivada_funcion_c_2(1), 0])\n",
        "print(\"Gradiente evaluado en P0: \", gradiente_punto_0)\n",
        "print(\"Magnitud del gradiente evaluado en P0: \", torch.norm(gradiente_punto_0), \"\\n\")\n",
        "\n",
        "gradiente_punto_1 = torch.tensor([derivada_funcion_c_1(5), derivada_funcion_c_2(7), 0])\n",
        "print(\"Gradiente evaluado en P1: \", gradiente_punto_1)\n",
        "print(\"Magnitud del gradiente evaluado en P1: \", torch.norm(gradiente_punto_1))"
      ],
      "metadata": {
        "colab": {
          "base_uri": "https://localhost:8080/"
        },
        "id": "6l-dRR3EGt-5",
        "outputId": "f3be70ae-cd79-45a3-d460-e1ade5b56fd4"
      },
      "execution_count": null,
      "outputs": [
        {
          "output_type": "stream",
          "name": "stdout",
          "text": [
            "Gradiente evaluado en P0:  tensor([127.1963,  70.2566,   0.0000])\n",
            "Magnitud del gradiente evaluado en P0:  tensor(145.3096) \n",
            "\n",
            "Gradiente evaluado en P1:  tensor([4.4095e+04, 3.9564e+09, 0.0000e+00])\n",
            "Magnitud del gradiente evaluado en P1:  tensor(3.9564e+09)\n"
          ]
        }
      ]
    },
    {
      "cell_type": "markdown",
      "source": [
        "> A continuación se presenta el gráfico respectivo: la superficie abarcada por la función en la maya de coordenadas junto con los dos vectores resultantes de la evaluación de cada uno de los dos puntos especificados en el vector gradiente obtenido de las derivadas parciales anteriormente calculadas:"
      ],
      "metadata": {
        "id": "3uwopca7PWQu"
      }
    },
    {
      "cell_type": "code",
      "source": [
        "def evaluar_grandiente(inicio, arrange):\n",
        "    xs = torch.linspace(arrange[0], arrange[1], steps=256)  # x1\n",
        "    ys = torch.linspace(arrange[0], arrange[1], steps=256)  # x2\n",
        "    x, y = torch.meshgrid(xs, ys, indexing='xy')\n",
        "\n",
        "    #  Se presentan los vectores y la superficie de la función en el resultado\n",
        "    ax = plt.axes(projection='3d')\n",
        "    ax.quiver(inicio[0], inicio[1], inicio[2], gradiente_punto_0[0], gradiente_punto_0[1], gradiente_punto_0[2])\n",
        "    ax.quiver(inicio[0], inicio[1], inicio[2], gradiente_punto_1[0], gradiente_punto_1[1], gradiente_punto_1[2])\n",
        "    ax.plot_surface(x.numpy(), y.numpy(), funcion_c(x, y).numpy(), cmap=cm.coolwarm, linewidth=0, antialiased=False)\n",
        "    plt.show()\n",
        "\n",
        "evaluar_grandiente([0, 0, 0], [-1, 1])"
      ],
      "metadata": {
        "colab": {
          "base_uri": "https://localhost:8080/",
          "height": 248
        },
        "id": "NMutg5RbyU1m",
        "outputId": "967149cb-1cac-426f-b9fb-8585f053127f"
      },
      "execution_count": null,
      "outputs": [
        {
          "output_type": "display_data",
          "data": {
            "text/plain": [
              "<Figure size 432x288 with 1 Axes>"
            ],
            "image/png": "[encoded data removed]"
          },
          "metadata": {
            "needs_background": "light"
          }
        }
      ]
    },
    {
      "cell_type": "markdown",
      "source": [
        "####2. **(10 puntos)** En general, investigue ¿qué es y que indica la matriz Hessiana?"
      ],
      "metadata": {
        "id": "D-sHfchxULlY"
      }
    },
    {
      "cell_type": "markdown",
      "source": [
        "> Sobre las aplicaciones de esta matriz, se pueden citar los siguientes puntos:\n",
        "\n",
        "* Permite encontrar ya sea máximos o mínimos de funciones multivariable. Para conseguir esto, el procedimiento a seguir consiste de obtener los puntos críticos de la función (igualando a cero el vector gradiente y obteniendo los puntos respectivos del despeje) y operarlos con la matriz Hessiana.\n",
        "\n",
        "> Una vez obtenido el resultado, la matriz que se consiguió debe ser evaluada bajo el criterio de: definida positiva, definida negativa, indefinida, etc (lo cual puede ser establecido con el Criterio de los valores propios o con el Criterio de Sylvester).\n",
        "\n",
        "> Dependiendo del tipo de matriz obtenida, así podrá definirse el punto que fue utilizado para el cálculo (máximo, mínimo o un punto neutro).\n",
        "\n",
        "\n",
        "* También permite saber si una función es cóncava o convexa con respecto a un conjunto de puntos pertenecientes a la función, aplicando nuevamente el concepto de definida positiva, definida negativa, indefinida, etc.\n",
        "\n",
        "Fuentes utilizadas para cálculo y usos:\n",
        "* [Matriz Hessiana (o Hessiano)](https://www.matricesydeterminantes.com/matrices/matriz-hessiana-hessiano-2x2-3x3/)\n",
        "* [La matriz hessiana](https://es.khanacademy.org/math/multivariable-calculus/applications-of-multivariable-derivatives/quadratic-approximations/a/the-hessian)"
      ],
      "metadata": {
        "id": "KK130dIG_dUx"
      }
    },
    {
      "cell_type": "markdown",
      "source": [
        "#####**c) (5 puntos)** $z=f\\left(x,y\\right)=4x^{2}+2x+e^{2x}+5y^{2}+e^{3y}+1$"
      ],
      "metadata": {
        "id": "IK2XYdDg_4-d"
      }
    },
    {
      "cell_type": "markdown",
      "source": [
        "La matriz Hessiana para este ejercicio está dada por las siguiente derivadas de segundo orden:\n",
        "\n",
        "* $f_{xx}\\left(x,y\\right)=\\frac{\\delta}{\\delta x}\\left(2e^{2x}+8x+2\\right)=4e^{2x}+10$\n",
        "\n",
        "* $f_{xy}\\left(x,y\\right)=\\frac{\\delta}{\\delta y}\\left(2e^{2x}+8x+2\\right)=0$\n",
        "\n",
        "* $f_{yx}\\left(x,y\\right)=\\frac{\\delta}{\\delta x}\\left(3e^{3y}+10y\\right)=0$\n",
        "\n",
        "* $f_{yy}\\left(x,y\\right)=\\frac{\\delta}{\\delta y}\\left(3e^{3y}+10y\\right)=9e^{3y}+10$\n",
        "\n",
        "> Esto, organizado en lo que llamaríamos la matriz Hessiana, resulta en la siguiente matriz:\n",
        "\n",
        "> $\\mathbf{H}f\\left(x,y\\right)=\\left[\\begin{array}{cc}\n",
        "f_{xx}\\left(x,y\\right) & f_{yx}\\left(x,y\\right)\\\\\n",
        "f_{xy}\\left(x,y\\right) & f_{yy}\\left(x,y\\right)\n",
        "\\end{array}\\right]=\\left[\\begin{array}{cc}\n",
        "4e^{2x}+10 & 0\\\\\n",
        "0 & 9e^{3y}+10\n",
        "\\end{array}\\right]$\n",
        "\n",
        "Al evaluar esta matriz con los valores de los dos puntos respectivos, se obtienen las siguientes matrices:\n",
        "\n",
        "1. Para el punto $P_{0}=\\left(2,1\\right)$, la matriz resultante está dada por:\n",
        "\n",
        "> $=\\left[\\begin{array}{cc}\n",
        "4e^{4}+10 & 0\\\\\n",
        "0 & 9e^{3}+10\n",
        "\\end{array}\\right]$\n",
        "\n",
        "2. Para el punto $P_{0}=\\left(5,7\\right)$, la matriz resultante está dada por:\n",
        "\n",
        "> $=\\left[\\begin{array}{cc}\n",
        "4e^{10}+10 & 0\\\\\n",
        "0 & 9e^{21}+10\n",
        "\\end{array}\\right]$"
      ],
      "metadata": {
        "id": "imCmMiZG2aO0"
      }
    },
    {
      "cell_type": "markdown",
      "source": [
        "###**3- (50 puntos) Probabilidades: Algoritmo de Maximización de la Esperanza**"
      ],
      "metadata": {
        "id": "ntAgHSFflSj7"
      }
    },
    {
      "cell_type": "markdown",
      "source": [
        "A continuación, implemente el algoritmo de maximización de la esperanza (descrito en el material del curso), usando la definición y descripción de las siguientes funciones como base:"
      ],
      "metadata": {
        "id": "bpB9bisoAU0p"
      }
    },
    {
      "cell_type": "markdown",
      "source": [
        "####1. **(5 puntos)** Función ***generate_data***:"
      ],
      "metadata": {
        "id": "HBfWg6z-AYIp"
      }
    },
    {
      "cell_type": "markdown",
      "source": [
        "Implemente la función *generate_data* la cual reciba la cantidad de observaciones unidimensionales total a generar $N$, y los parámetros correspondientes a $K=2$ funciones de densidad Gaussianas. Genere los datos siguiendo tales distribuciones, y retorne tal matriz de datos $X\\in\\mathbb{R}^{N}$.\n",
        "\n",
        "* Grafique los datos usando un *scatter plot* junto con las gráficas de la función de densidad de probabilidad, en la misma figura (gráfico)."
      ],
      "metadata": {
        "id": "XzG4dsU4A88q"
      }
    },
    {
      "cell_type": "code",
      "source": [
        "def get_color(i):\n",
        "  colors = \"rbgcmykw\"\n",
        "  return colors[i % len(colors)]\n",
        "\n",
        "class Random_Data_Generator:\n",
        "  def __init__(self, total_samples:int, total_distributions:int, offset:int, expected_sigma_range:set):\n",
        "    self.offset = offset\n",
        "    self.total_samples = total_samples\n",
        "    self.total_distributions = total_distributions\n",
        "    self.expected_sigma_range = expected_sigma_range\n",
        "    self.set_default_to_variables()\n",
        "  \n",
        "  def set_default_to_variables(self):\n",
        "    self.curr_offset = 0\n",
        "    self.generated_output = torch.tensor([])\n",
        "    self.real_parameters = torch.zeros(self.total_distributions, 2)\n",
        "    self.samples_per_tensor = self.total_samples // self.total_distributions\n",
        "  \n",
        "  def generate_data(self):\n",
        "    self.y = torch.zeros(self.samples_per_tensor)\n",
        "    output = torch.stack(self.generate_data_aux(self.samples_per_tensor))\n",
        "    self.generated_output = output.view(*output.shape[:0], -1, *output.shape[self.total_distributions:])\n",
        "  \n",
        "  def generate_data_aux(self, n_aux:int, curr_dist:int=0):\n",
        "    sig_const = self.expected_sigma_range\n",
        "    st = self.real_parameters[curr_dist][1] = random.randint(sig_const[0], sig_const[1])\n",
        "    mu = self.real_parameters[curr_dist][0] = self.curr_offset + self.offset - st\n",
        "    \n",
        "    x = torch.normal(mean=mu, std=st, size=(1, n_aux))[0]\n",
        "    xcord = torch.linspace(torch.min(x) - st, torch.max(x) + st, 100)\n",
        "    \n",
        "    plt.plot(xcord, stats.norm.pdf(xcord, mu, st))\n",
        "    plt.scatter(x, self.y, c = get_color(curr_dist))\n",
        "    res_aux = [x]\n",
        "\n",
        "    if curr_dist + 1 < self.total_distributions:\n",
        "      new_k = curr_dist + 1\n",
        "      self.curr_offset = self.curr_offset + self.offset\n",
        "      new_data = self.generate_data_aux(n_aux, new_k)\n",
        "      res_aux.extend(new_data)\n",
        "    \n",
        "    return res_aux"
      ],
      "metadata": {
        "id": "XXKI7Dv45ENv"
      },
      "execution_count": 56,
      "outputs": []
    },
    {
      "cell_type": "code",
      "source": [
        "generator = Random_Data_Generator(100, 2, 100, (10, 30))\n",
        "generator.generate_data()\n",
        "\n",
        "print('--> La matriz K = ', generator.total_distributions, 'tiene las siguientes '\n",
        "      'muestras: \\n', generator.generated_output, '\\n')\n",
        "\n",
        "print('--> Adicionalmente, los parámetros generados para dichas dimensiones son: ',\n",
        "      '\\n ', generator.real_parameters)"
      ],
      "metadata": {
        "colab": {
          "base_uri": "https://localhost:8080/",
          "height": 612
        },
        "id": "Bky3uzypLqI8",
        "outputId": "9ed0d5c8-f7b4-4628-a879-503abbf3f888"
      },
      "execution_count": 57,
      "outputs": [
        {
          "output_type": "stream",
          "name": "stdout",
          "text": [
            "--> La matriz K =  2 tiene las siguientes muestras: \n",
            " tensor([ 10.5836,  69.8758, 117.8103,  90.6161,  53.0237,  61.0305,  85.3648,\n",
            "         74.4648,  47.2236,  93.2386,  72.6627, 101.0859,  76.9750,  68.1516,\n",
            "         34.7076,  48.2656,  82.0685,  54.1652,  56.5467,  48.5079, 102.1843,\n",
            "         78.3089,  56.4201,   0.7869, 117.1511,  56.4915,  25.0437,  98.6616,\n",
            "         52.5430,  46.3664, 118.3391, 119.2018,  72.3775,  83.1416,  67.3560,\n",
            "        101.6646,  80.9199,  70.3916,  32.3476,  80.9747,  89.6870,  91.1439,\n",
            "         68.4801,  91.5708,  76.4792,  39.6157,  87.3156,  93.4893,  78.1645,\n",
            "         97.5096, 195.2502, 185.7241, 189.9957, 178.0561, 189.2374, 184.1136,\n",
            "        193.4762, 180.7497, 173.7911, 183.5853, 185.4562, 202.2080, 171.2327,\n",
            "        187.4262, 178.5421, 189.9671, 181.5711, 192.3623, 196.1015, 182.0216,\n",
            "        191.9307, 206.0043, 171.8784, 193.6979, 183.9620, 186.8239, 189.0041,\n",
            "        189.2971, 183.6918, 173.7647, 209.4696, 208.5960, 178.1248, 185.1228,\n",
            "        186.1586, 190.5875, 201.2405, 201.6201, 206.0977, 182.7125, 189.3953,\n",
            "        184.7235, 184.2745, 191.4482, 188.4028, 193.5480, 192.1027, 207.4592,\n",
            "        183.2356, 180.3114]) \n",
            "\n",
            "--> Adicionalmente, los parámetros generados para dichas dimensiones son:  \n",
            "  tensor([[ 73.,  27.],\n",
            "        [190.,  10.]])\n"
          ]
        },
        {
          "output_type": "display_data",
          "data": {
            "text/plain": [
              "<Figure size 432x288 with 1 Axes>"
            ],
            "image/png": "[encoded data removed]"
          },
          "metadata": {
            "needs_background": "light"
          }
        }
      ]
    },
    {
      "cell_type": "markdown",
      "source": [
        "####2. **(5 puntos)** Función ***init_random_parameters***:"
      ],
      "metadata": {
        "id": "d5EfybHdNv3b"
      }
    },
    {
      "cell_type": "markdown",
      "source": [
        "Implemente la función *init_random_parameters* la cual genere una matriz de $P\\in\\mathbb{R}^{K\\times2}$ dimensiones, con los parámetros de las funciones de densidad Gaussiana generados completamente al azar.\n",
        "\n",
        "* Muestre un pantallazo donde verifique su funcionamiento correcto con los comentarios asociados."
      ],
      "metadata": {
        "id": "sD8HOlGyP06H"
      }
    },
    {
      "cell_type": "code",
      "source": [
        "def init_random_parameters(k):\n",
        "  return torch.randint(0, generator.curr_offset + generator.offset, (2,k))\n",
        "\n",
        "curr_parameters = init_random_parameters(generator.total_distributions)\n",
        "print('--> Parámetros aleatorios calculados para el inicio del algoritmo: \\n',\n",
        "      curr_parameters)"
      ],
      "metadata": {
        "colab": {
          "base_uri": "https://localhost:8080/"
        },
        "id": "49EkYgK0Nwlk",
        "outputId": "80e7ede0-c459-46a3-a8eb-ff9e8af6698e"
      },
      "execution_count": 105,
      "outputs": [
        {
          "output_type": "stream",
          "name": "stdout",
          "text": [
            "--> Parámetros aleatorios calculados para el inicio del algoritmo: \n",
            " tensor([[ 3, 25],\n",
            "        [26, 54]])\n"
          ]
        }
      ]
    },
    {
      "cell_type": "markdown",
      "source": [
        "> El objetivo con esta función es calcular la matriz de parámetros de la forma más sencilla y directa posible. Para lograr esto, los únicos límites aplicados para la definición del *aleatorio* es el siguiente rango permitido para calcular los valores aleatorios que estarán en la matriz de salida:\n",
        "\n",
        "> $[0, curr\\_offset + offset]$\n",
        "\n",
        "> Este rango viene definido enteramente desde la función anterior de *generate_data* donde:\n",
        "\n",
        "* El límite inferior 0 corresponde con el valor inicial que tiene la variable $curr\\_offset$ establecido por defecto en la clase generadora de datos aleatorios.\n",
        "* El límite superior $curr\\_offset + offset$ corresponde a un $offset$ que es definido antes de ejecutar la función de *generate_data* y a un $curr\\_offset$ que va incrementando $offset$ con cada dimensión de data que se agrega al dataset final de pruebas.\n",
        "\n",
        "> De esta forma, se garantiza que los valores aleatorios vayan a caer en un rango de valores que no sea el máximo requerido al momento de generar la muestra. Esto evita valores que se alejen mucho por número muy pequeños o muy grandes.\n",
        "\n",
        "> Sin embargo, este rango no evita que se caiga en sitios muy aislados de las *islas* generadas por los K grupos de datos, de forma que es muy mejorable para el punto final de esta pregunta."
      ],
      "metadata": {
        "id": "WMUbPtRVadrF"
      }
    },
    {
      "cell_type": "markdown",
      "source": [
        "####3. **(5 puntos)** Función ***calculate_likelihood***:"
      ],
      "metadata": {
        "id": "BO4NQMcyZKCF"
      }
    },
    {
      "cell_type": "markdown",
      "source": [
        "Implemente la función *calculate_likelihood_gaussian_observations(x_n, mu_k, sigma_k)* la cual calcule la verosimilitud de una observacion específica $x_n$, para una función de densidad Gaussiana con parámetros $µ_k$ y $σ_k$.\n",
        "\n",
        "* Muestre un pantallazo donde verifique su funcionamiento correcto con los comentarios asociados."
      ],
      "metadata": {
        "id": "SaQW6oTNZSmY"
      }
    },
    {
      "cell_type": "code",
      "source": [
        "def calculate_likelihood_per_group_of_parameters(parameters:torch.tensor, samples:torch.tensor):\n",
        "  bpart = (1 / math.sqrt(2 * math.pi * parameters[1]**2))\n",
        "  fpart = math.e**-(((samples - parameters[0])**2) / (2 * parameters[1]**2))\n",
        "  \n",
        "  return bpart * fpart\n",
        "\n",
        "def calculate_likelihood(parameters:torch.tensor, samples:torch.tensor):\n",
        "  bpart = (1 / torch.sqrt(2 * math.pi * parameters[:, 1]**2))\n",
        "\n",
        "  fpart1 = (samples.repeat(2, 1) - parameters[:, 0][:, None])\n",
        "  fpart2 = parameters[:, 1][:, None]\n",
        "  fpart = math.e**((-1/2)*(fpart1 / fpart2)**2)\n",
        "\n",
        "  return bpart[:, None] * fpart"
      ],
      "metadata": {
        "id": "XRJVORmFax6v"
      },
      "execution_count": 106,
      "outputs": []
    },
    {
      "cell_type": "markdown",
      "source": [
        "> Demostración del funcionamiento de la función de likelihood para todos los componentes presentes en el listado de data generada aleatoriamente en comparación con los parámetros generados aleatoriamente."
      ],
      "metadata": {
        "id": "WqSJgRFtcStz"
      }
    },
    {
      "cell_type": "code",
      "source": [
        "print('--> Cálculo de la verosimilitud para los pares de parámetros calculados ',\n",
        "      'aleatoriamente: \\n', calculate_likelihood(curr_parameters, generator.generated_output))"
      ],
      "metadata": {
        "id": "DCNX1YibXjGR",
        "colab": {
          "base_uri": "https://localhost:8080/"
        },
        "outputId": "94a52fa5-5d5c-4cb9-a29d-a9aac0eb7ffb"
      },
      "execution_count": 107,
      "outputs": [
        {
          "output_type": "stream",
          "name": "stdout",
          "text": [
            "--> Cálculo de la verosimilitud para los pares de parámetros calculados  aleatoriamente: \n",
            " tensor([[1.5240e-02, 4.4577e-04, 4.2003e-07, 3.4344e-05, 2.1555e-03, 1.0789e-03,\n",
            "         7.0142e-05, 2.6825e-04, 3.3380e-03, 2.3648e-05, 3.2878e-04, 7.2501e-06,\n",
            "         2.0031e-04, 5.3481e-04, 7.1395e-03, 3.0980e-03, 1.0737e-04, 1.9653e-03,\n",
            "         1.6098e-03, 3.0440e-03, 6.0963e-06, 1.7081e-04, 1.6274e-03, 1.5895e-02,\n",
            "         4.7394e-07, 1.6175e-03, 1.0818e-02, 1.0557e-05, 2.2397e-03, 3.5446e-03,\n",
            "         3.8106e-07, 3.2478e-07, 3.3937e-04, 9.3649e-05, 5.8076e-04, 6.6189e-06,\n",
            "         1.2402e-04, 4.2174e-04, 8.0118e-03, 1.2318e-04, 3.9095e-05, 3.1888e-05,\n",
            "         5.1676e-04, 3.0020e-05, 2.1237e-04, 5.4596e-03, 5.4076e-05, 2.2806e-05,\n",
            "         1.7380e-04, 1.2579e-05, 2.2998e-15, 4.0064e-14, 1.1325e-14, 3.5970e-13,\n",
            "         1.4203e-14, 6.4024e-14, 3.9591e-15, 1.6817e-13, 1.1706e-12, 7.4599e-14,\n",
            "         4.3326e-14, 2.6025e-16, 2.3430e-12, 2.4302e-14, 3.1386e-13, 1.1423e-14,\n",
            "         1.3307e-13, 5.5538e-15, 1.7690e-15, 1.1698e-13, 6.3288e-15, 7.6715e-17,\n",
            "         1.9685e-12, 3.7003e-15, 6.6899e-14, 2.9020e-14, 1.5225e-14, 1.3953e-14,\n",
            "         7.2338e-14, 1.1791e-12, 2.4655e-17, 3.2882e-17, 3.5284e-13, 4.7751e-14,\n",
            "         3.5280e-14, 9.4851e-15, 3.5399e-16, 3.1380e-16, 7.4425e-17, 9.5937e-14,\n",
            "         1.3550e-14, 5.3636e-14, 6.1106e-14, 7.3212e-15, 1.8203e-14, 3.8733e-15,\n",
            "         6.0080e-15, 4.7745e-17, 8.2523e-14, 1.9047e-13],\n",
            "        [7.0928e-03, 5.3108e-03, 1.7411e-03, 3.6107e-03, 6.5183e-03, 5.9860e-03,\n",
            "         4.0372e-03, 4.9386e-03, 6.8387e-03, 3.4029e-03, 5.0859e-03, 2.8098e-03,\n",
            "         4.7317e-03, 5.4476e-03, 7.2924e-03, 6.7858e-03, 4.3094e-03, 6.4483e-03,\n",
            "         6.2955e-03, 6.7731e-03, 2.7309e-03, 4.6212e-03, 6.3038e-03, 6.6249e-03,\n",
            "         1.7775e-03, 6.2991e-03, 7.3867e-03, 2.9878e-03, 6.5471e-03, 6.8806e-03,\n",
            "         1.7123e-03, 1.6659e-03, 5.1091e-03, 4.2205e-03, 5.5100e-03, 2.7681e-03,\n",
            "         4.4046e-03, 5.2695e-03, 7.3370e-03, 4.4001e-03, 3.6853e-03, 3.5686e-03,\n",
            "         5.4217e-03, 3.5346e-03, 4.7727e-03, 7.1567e-03, 3.8775e-03, 3.3832e-03,\n",
            "         4.6332e-03, 3.0741e-03, 5.4368e-05, 9.3050e-05, 7.3408e-05, 1.4020e-04,\n",
            "         7.6599e-05, 1.0159e-04, 6.0232e-05, 1.2168e-04, 1.7458e-04, 1.0453e-04,\n",
            "         9.4424e-05, 3.6004e-05, 1.9852e-04, 8.4725e-05, 1.3669e-04, 7.3526e-05,\n",
            "         1.1647e-04, 6.4198e-05, 5.1741e-05, 1.1370e-04, 6.5796e-05, 2.8553e-05,\n",
            "         1.9223e-04, 5.9470e-05, 1.0242e-04, 8.7592e-05, 7.7605e-05, 7.6343e-05,\n",
            "         1.0393e-04, 1.7481e-04, 2.3007e-05, 2.4304e-05, 1.3970e-04, 9.6160e-05,\n",
            "         9.0859e-05, 7.1001e-05, 3.8166e-05, 3.7304e-05, 2.8389e-05, 1.0957e-04,\n",
            "         7.5924e-05, 9.8275e-05, 1.0070e-04, 6.7625e-05, 8.0253e-05, 5.9984e-05,\n",
            "         6.5155e-05, 2.6091e-05, 1.0653e-04, 1.2454e-04]])\n"
          ]
        }
      ]
    },
    {
      "cell_type": "markdown",
      "source": [
        "####4. **(5 puntos)** Función ***calculate_membership_dataset***:"
      ],
      "metadata": {
        "id": "TRHdOprScuep"
      }
    },
    {
      "cell_type": "markdown",
      "source": [
        "Implemente la función *calculate_membership_dataset(X_dataset,\n",
        "Parameters_matrix)*, la cual, usando la matriz de parámetros $P$ y la función\n",
        "anteriormente implementada *calculate_likelihood_gaussian_observation*, defina por cada observación $x_n ∈ X$ la pertenencia o membresía a cada cluster $k = 1, ... K$, en una matriz binaria $M ∈ R^{N×K}$. Retorne tal matriz de membresía $M$.\n",
        "\n",
        "* Muestre un pantallazo donde verifique su funcionamiento correcto con los comentarios asociados."
      ],
      "metadata": {
        "id": "Qxsyjuxmc-DH"
      }
    },
    {
      "cell_type": "code",
      "source": [
        "def new_calculate_membership_dataset(parameters:torch.tensor, samples:torch.tensor):\n",
        "  original = calculate_likelihood(curr_parameters, generator.generated_output)\n",
        "  transpose_o = torch.t(original)\n",
        "  maxvalues = torch.amax(transpose_o, 1)\n",
        "  return torch.where(original == maxvalues, 1, 0)\n",
        "\n",
        "def calculate_membership_dataset(parameters:torch.tensor, samples:torch.tensor):\n",
        "  x = calculate_likelihood_per_group_of_parameters(parameters[0], samples)\n",
        "  y = calculate_likelihood_per_group_of_parameters(parameters[1], samples)\n",
        "\n",
        "  print('x', x)\n",
        "  print('y', y)\n",
        "\n",
        "  x2 = torch.where(x > y, 1, 0)\n",
        "  y2 = torch.where(y > x, 1, 0)\n",
        "\n",
        "  print('x2', x2)\n",
        "  print('y2', y2)\n",
        "  \n",
        "  m = torch.stack([x2, y2])\n",
        "  print('m inicial', m)\n",
        "\n",
        "  xcord = torch.linspace(torch.min(samples), torch.max(samples), 100)\n",
        "  xcord2 = torch.linspace(torch.min(samples), torch.max(samples), 100)\n",
        "\n",
        "  plt.plot(xcord, stats.norm.pdf(xcord, parameters[0][0], parameters[0][1]))\n",
        "  plt.plot(xcord, stats.norm.pdf(xcord2, parameters[1][0], parameters[1][1]))\n",
        "  plt.scatter(samples, torch.zeros(generator.total_samples), c = 'g')\n",
        "\n",
        "  return m\n",
        "\n",
        "one_hot_vector = calculate_membership_dataset(curr_parameters, generator.generated_output)\n",
        "print('m refactor', new_calculate_membership_dataset(curr_parameters, generator.generated_output))"
      ],
      "metadata": {
        "colab": {
          "base_uri": "https://localhost:8080/",
          "height": 1000
        },
        "id": "zZF6DFsxooBF",
        "outputId": "8d748533-8540-45d6-dd0b-c23b346e4400"
      },
      "execution_count": 123,
      "outputs": [
        {
          "output_type": "stream",
          "name": "stdout",
          "text": [
            "x tensor([1.5240e-02, 4.4577e-04, 4.2003e-07, 3.4344e-05, 2.1555e-03, 1.0789e-03,\n",
            "        7.0142e-05, 2.6825e-04, 3.3380e-03, 2.3648e-05, 3.2878e-04, 7.2501e-06,\n",
            "        2.0031e-04, 5.3481e-04, 7.1395e-03, 3.0980e-03, 1.0737e-04, 1.9653e-03,\n",
            "        1.6098e-03, 3.0440e-03, 6.0963e-06, 1.7081e-04, 1.6274e-03, 1.5895e-02,\n",
            "        4.7394e-07, 1.6175e-03, 1.0818e-02, 1.0557e-05, 2.2397e-03, 3.5446e-03,\n",
            "        3.8106e-07, 3.2478e-07, 3.3937e-04, 9.3649e-05, 5.8076e-04, 6.6189e-06,\n",
            "        1.2402e-04, 4.2174e-04, 8.0118e-03, 1.2318e-04, 3.9095e-05, 3.1888e-05,\n",
            "        5.1676e-04, 3.0020e-05, 2.1237e-04, 5.4596e-03, 5.4076e-05, 2.2806e-05,\n",
            "        1.7380e-04, 1.2579e-05, 2.2998e-15, 4.0064e-14, 1.1325e-14, 3.5970e-13,\n",
            "        1.4203e-14, 6.4024e-14, 3.9590e-15, 1.6817e-13, 1.1706e-12, 7.4599e-14,\n",
            "        4.3326e-14, 2.6025e-16, 2.3430e-12, 2.4302e-14, 3.1386e-13, 1.1423e-14,\n",
            "        1.3307e-13, 5.5538e-15, 1.7690e-15, 1.1698e-13, 6.3288e-15, 7.6716e-17,\n",
            "        1.9685e-12, 3.7003e-15, 6.6899e-14, 2.9020e-14, 1.5225e-14, 1.3953e-14,\n",
            "        7.2338e-14, 1.1791e-12, 2.4655e-17, 3.2882e-17, 3.5284e-13, 4.7751e-14,\n",
            "        3.5280e-14, 9.4851e-15, 3.5399e-16, 3.1380e-16, 7.4425e-17, 9.5937e-14,\n",
            "        1.3550e-14, 5.3636e-14, 6.1106e-14, 7.3213e-15, 1.8203e-14, 3.8733e-15,\n",
            "        6.0080e-15, 4.7745e-17, 8.2522e-14, 1.9047e-13])\n",
            "y tensor([7.0928e-03, 5.3108e-03, 1.7411e-03, 3.6107e-03, 6.5183e-03, 5.9860e-03,\n",
            "        4.0372e-03, 4.9386e-03, 6.8387e-03, 3.4029e-03, 5.0859e-03, 2.8098e-03,\n",
            "        4.7317e-03, 5.4476e-03, 7.2924e-03, 6.7858e-03, 4.3094e-03, 6.4483e-03,\n",
            "        6.2955e-03, 6.7731e-03, 2.7309e-03, 4.6212e-03, 6.3038e-03, 6.6249e-03,\n",
            "        1.7775e-03, 6.2991e-03, 7.3867e-03, 2.9878e-03, 6.5471e-03, 6.8806e-03,\n",
            "        1.7123e-03, 1.6659e-03, 5.1091e-03, 4.2205e-03, 5.5100e-03, 2.7681e-03,\n",
            "        4.4046e-03, 5.2695e-03, 7.3370e-03, 4.4001e-03, 3.6853e-03, 3.5686e-03,\n",
            "        5.4217e-03, 3.5346e-03, 4.7727e-03, 7.1567e-03, 3.8775e-03, 3.3832e-03,\n",
            "        4.6332e-03, 3.0741e-03, 5.4368e-05, 9.3050e-05, 7.3408e-05, 1.4020e-04,\n",
            "        7.6599e-05, 1.0159e-04, 6.0232e-05, 1.2168e-04, 1.7457e-04, 1.0453e-04,\n",
            "        9.4425e-05, 3.6004e-05, 1.9852e-04, 8.4725e-05, 1.3669e-04, 7.3526e-05,\n",
            "        1.1647e-04, 6.4198e-05, 5.1741e-05, 1.1370e-04, 6.5796e-05, 2.8553e-05,\n",
            "        1.9223e-04, 5.9470e-05, 1.0242e-04, 8.7592e-05, 7.7605e-05, 7.6343e-05,\n",
            "        1.0393e-04, 1.7481e-04, 2.3007e-05, 2.4304e-05, 1.3970e-04, 9.6160e-05,\n",
            "        9.0859e-05, 7.1001e-05, 3.8166e-05, 3.7304e-05, 2.8389e-05, 1.0957e-04,\n",
            "        7.5924e-05, 9.8275e-05, 1.0070e-04, 6.7625e-05, 8.0253e-05, 5.9984e-05,\n",
            "        6.5155e-05, 2.6091e-05, 1.0653e-04, 1.2454e-04])\n",
            "x2 tensor([1, 0, 0, 0, 0, 0, 0, 0, 0, 0, 0, 0, 0, 0, 0, 0, 0, 0, 0, 0, 0, 0, 0, 1,\n",
            "        0, 0, 1, 0, 0, 0, 0, 0, 0, 0, 0, 0, 0, 0, 1, 0, 0, 0, 0, 0, 0, 0, 0, 0,\n",
            "        0, 0, 0, 0, 0, 0, 0, 0, 0, 0, 0, 0, 0, 0, 0, 0, 0, 0, 0, 0, 0, 0, 0, 0,\n",
            "        0, 0, 0, 0, 0, 0, 0, 0, 0, 0, 0, 0, 0, 0, 0, 0, 0, 0, 0, 0, 0, 0, 0, 0,\n",
            "        0, 0, 0, 0])\n",
            "y2 tensor([0, 1, 1, 1, 1, 1, 1, 1, 1, 1, 1, 1, 1, 1, 1, 1, 1, 1, 1, 1, 1, 1, 1, 0,\n",
            "        1, 1, 0, 1, 1, 1, 1, 1, 1, 1, 1, 1, 1, 1, 0, 1, 1, 1, 1, 1, 1, 1, 1, 1,\n",
            "        1, 1, 1, 1, 1, 1, 1, 1, 1, 1, 1, 1, 1, 1, 1, 1, 1, 1, 1, 1, 1, 1, 1, 1,\n",
            "        1, 1, 1, 1, 1, 1, 1, 1, 1, 1, 1, 1, 1, 1, 1, 1, 1, 1, 1, 1, 1, 1, 1, 1,\n",
            "        1, 1, 1, 1])\n",
            "m inicial tensor([[1, 0, 0, 0, 0, 0, 0, 0, 0, 0, 0, 0, 0, 0, 0, 0, 0, 0, 0, 0, 0, 0, 0, 1,\n",
            "         0, 0, 1, 0, 0, 0, 0, 0, 0, 0, 0, 0, 0, 0, 1, 0, 0, 0, 0, 0, 0, 0, 0, 0,\n",
            "         0, 0, 0, 0, 0, 0, 0, 0, 0, 0, 0, 0, 0, 0, 0, 0, 0, 0, 0, 0, 0, 0, 0, 0,\n",
            "         0, 0, 0, 0, 0, 0, 0, 0, 0, 0, 0, 0, 0, 0, 0, 0, 0, 0, 0, 0, 0, 0, 0, 0,\n",
            "         0, 0, 0, 0],\n",
            "        [0, 1, 1, 1, 1, 1, 1, 1, 1, 1, 1, 1, 1, 1, 1, 1, 1, 1, 1, 1, 1, 1, 1, 0,\n",
            "         1, 1, 0, 1, 1, 1, 1, 1, 1, 1, 1, 1, 1, 1, 0, 1, 1, 1, 1, 1, 1, 1, 1, 1,\n",
            "         1, 1, 1, 1, 1, 1, 1, 1, 1, 1, 1, 1, 1, 1, 1, 1, 1, 1, 1, 1, 1, 1, 1, 1,\n",
            "         1, 1, 1, 1, 1, 1, 1, 1, 1, 1, 1, 1, 1, 1, 1, 1, 1, 1, 1, 1, 1, 1, 1, 1,\n",
            "         1, 1, 1, 1]])\n",
            "m refactor tensor([[1, 0, 0, 0, 0, 0, 0, 0, 0, 0, 0, 0, 0, 0, 0, 0, 0, 0, 0, 0, 0, 0, 0, 1,\n",
            "         0, 0, 1, 0, 0, 0, 0, 0, 0, 0, 0, 0, 0, 0, 1, 0, 0, 0, 0, 0, 0, 0, 0, 0,\n",
            "         0, 0, 0, 0, 0, 0, 0, 0, 0, 0, 0, 0, 0, 0, 0, 0, 0, 0, 0, 0, 0, 0, 0, 0,\n",
            "         0, 0, 0, 0, 0, 0, 0, 0, 0, 0, 0, 0, 0, 0, 0, 0, 0, 0, 0, 0, 0, 0, 0, 0,\n",
            "         0, 0, 0, 0],\n",
            "        [0, 1, 1, 1, 1, 1, 1, 1, 1, 1, 1, 1, 1, 1, 1, 1, 1, 1, 1, 1, 1, 1, 1, 0,\n",
            "         1, 1, 0, 1, 1, 1, 1, 1, 1, 1, 1, 1, 1, 1, 0, 1, 1, 1, 1, 1, 1, 1, 1, 1,\n",
            "         1, 1, 1, 1, 1, 1, 1, 1, 1, 1, 1, 1, 1, 1, 1, 1, 1, 1, 1, 1, 1, 1, 1, 1,\n",
            "         1, 1, 1, 1, 1, 1, 1, 1, 1, 1, 1, 1, 1, 1, 1, 1, 1, 1, 1, 1, 1, 1, 1, 1,\n",
            "         1, 1, 1, 1]])\n"
          ]
        },
        {
          "output_type": "display_data",
          "data": {
            "text/plain": [
              "<Figure size 432x288 with 1 Axes>"
            ],
            "image/png": "[encoded data removed]"
          },
          "metadata": {
            "needs_background": "light"
          }
        }
      ]
    },
    {
      "cell_type": "markdown",
      "source": [
        "> En el anterior resultado se presentan los resultados obtenidos para cada uno de los grupos de parámetros aplicables para valorar en comparación con el modelo generado aleatoriamente.\n",
        "\n",
        "> Estos serán los valores utiliza"
      ],
      "metadata": {
        "id": "mTv4t_9bYnBD"
      }
    },
    {
      "cell_type": "markdown",
      "source": [
        "Se tienen como aleatorios actuales>\n",
        "\n",
        " tensor([[ 63,  32],\n",
        "        [168,  11]])"
      ],
      "metadata": {
        "id": "rp4NdAheRG24"
      }
    },
    {
      "cell_type": "code",
      "source": [
        "def recalculate_parameters(one_hot_vector):\n",
        "  new_mu = (1 / generator.total_samples) * torch.sum(one_hot_vector)\n",
        "  new_std = (1 / (generator.total_samples - 1)) * torch.sum((one_hot_vector - new_mu)**2)\n",
        "\n",
        "  xcord = torch.linspace(torch.min(generator.generated_output), torch.max(generator.generated_output), 100)\n",
        "\n",
        "  plt.plot(xcord, stats.norm.pdf(xcord, new_mu * 100, new_std * 100))\n",
        "  plt.scatter(generator.generated_output, torch.zeros(generator.total_samples), c = 'g')\n",
        "\n",
        "  return torch.tensor([new_mu * 100, new_std * 100])\n",
        "\n",
        "\n",
        "\n",
        "p1 = recalculate_parameters(one_hot_vector[0])\n",
        "p2 = recalculate_parameters(one_hot_vector[1])\n",
        "\n",
        "p3 = torch.stack([p1, p2])\n",
        "print(p3)"
      ],
      "metadata": {
        "colab": {
          "base_uri": "https://localhost:8080/",
          "height": 300
        },
        "id": "_ZEdN3C4OVCp",
        "outputId": "54ff8cf6-0430-4409-a212-e84f3469386b"
      },
      "execution_count": null,
      "outputs": [
        {
          "output_type": "stream",
          "name": "stdout",
          "text": [
            "tensor([[51.0000, 25.2424],\n",
            "        [49.0000, 25.2424]])\n"
          ]
        },
        {
          "output_type": "display_data",
          "data": {
            "text/plain": [
              "<Figure size 432x288 with 1 Axes>"
            ],
            "image/png": "[encoded data removed]"
          },
          "metadata": {
            "needs_background": "light"
          }
        }
      ]
    },
    {
      "cell_type": "code",
      "source": [
        "one_hot_vector2 = calculate_membership_dataset(p3, generator.generated_output)"
      ],
      "metadata": {
        "colab": {
          "base_uri": "https://localhost:8080/",
          "height": 1000
        },
        "id": "vRupAQd2Uvma",
        "outputId": "290057ca-a91a-403b-e120-4ebbcf081e37"
      },
      "execution_count": null,
      "outputs": [
        {
          "output_type": "stream",
          "name": "stdout",
          "text": [
            "x tensor([1.0107e-02, 5.3905e-03, 1.0275e-02, 5.8889e-03, 1.3866e-02, 1.5723e-02,\n",
            "        1.5302e-02, 3.6632e-03, 4.7683e-04, 5.1943e-03, 1.0025e-02, 4.4669e-03,\n",
            "        1.4826e-02, 5.2330e-04, 2.5544e-03, 6.7226e-03, 1.4739e-02, 1.4220e-04,\n",
            "        5.0725e-03, 3.0962e-03, 9.1252e-04, 1.0232e-02, 1.2414e-02, 3.7176e-04,\n",
            "        9.5263e-04, 1.2967e-02, 4.0204e-03, 1.4790e-02, 1.5675e-02, 1.5446e-02,\n",
            "        1.1642e-02, 1.8454e-03, 4.0233e-03, 9.3319e-03, 3.2378e-03, 7.7302e-03,\n",
            "        1.2407e-02, 1.2025e-02, 1.5613e-02, 1.4673e-02, 2.5235e-03, 2.1696e-03,\n",
            "        8.0895e-03, 4.6971e-03, 1.5796e-02, 4.4178e-04, 6.5156e-03, 1.0842e-02,\n",
            "        1.1599e-02, 1.5562e-02, 6.0975e-08, 1.3887e-09, 1.3954e-06, 3.8250e-09,\n",
            "        6.9453e-10, 4.9330e-08, 6.7712e-09, 1.0481e-07, 1.7129e-06, 1.8989e-05,\n",
            "        3.5630e-10, 1.1192e-08, 2.0448e-08, 3.5465e-10, 7.7122e-09, 2.1631e-07,\n",
            "        6.7052e-11, 8.7244e-09, 5.8724e-08, 1.1682e-07, 3.5649e-09, 1.1865e-08,\n",
            "        6.8116e-07, 6.8286e-08, 2.8577e-07, 6.5332e-11, 1.2765e-08, 2.0044e-09,\n",
            "        3.6379e-09, 3.5256e-09, 2.2840e-06, 7.4831e-09, 3.5173e-11, 8.8252e-09,\n",
            "        1.9247e-08, 1.3923e-13, 4.4524e-09, 2.5618e-07, 8.9181e-07, 1.6410e-08,\n",
            "        2.0084e-10, 8.3693e-08, 3.0808e-09, 8.1765e-11, 1.3144e-05, 3.9467e-07,\n",
            "        2.7105e-09, 3.3828e-07, 7.6089e-10, 4.6758e-07])\n",
            "y tensor([1.0859e-02, 4.7841e-03, 9.5168e-03, 5.2520e-03, 1.4394e-02, 1.5548e-02,\n",
            "        1.5564e-02, 3.1890e-03, 3.8544e-04, 4.6008e-03, 9.2662e-03, 3.9259e-03,\n",
            "        1.4367e-02, 4.2419e-04, 2.1889e-03, 6.0420e-03, 1.4264e-02, 1.1115e-04,\n",
            "        4.4873e-03, 2.6751e-03, 7.5283e-04, 9.4733e-03, 1.1712e-02, 2.9831e-04,\n",
            "        7.8705e-04, 1.2298e-02, 3.5154e-03, 1.5175e-02, 1.5468e-02, 1.5661e-02,\n",
            "        1.0908e-02, 1.5611e-03, 3.5180e-03, 8.5760e-03, 2.8029e-03, 7.0093e-03,\n",
            "        1.1705e-02, 1.2711e-02, 1.5373e-02, 1.4187e-02, 2.1614e-03, 1.8469e-03,\n",
            "        7.3575e-03, 4.1387e-03, 1.5788e-02, 3.5629e-04, 5.8450e-03, 1.0090e-02,\n",
            "        1.0864e-02, 1.5298e-02, 4.0924e-08, 8.8127e-10, 9.8780e-07, 2.4623e-09,\n",
            "        4.3655e-10, 3.2998e-08, 4.3950e-09, 7.0961e-08, 1.2171e-06, 1.4156e-05,\n",
            "        2.2195e-10, 7.3182e-09, 1.3493e-08, 2.2091e-10, 5.0153e-09, 1.4820e-07,\n",
            "        4.0868e-11, 5.6839e-09, 3.9390e-08, 7.9232e-08, 2.2925e-09, 7.7653e-09,\n",
            "        4.7599e-07, 4.5913e-08, 1.9672e-07, 3.9807e-11, 8.3638e-09, 1.2785e-09,\n",
            "        2.3401e-09, 2.2669e-09, 1.6316e-06, 4.8642e-09, 2.1264e-11, 5.7506e-09,\n",
            "        1.2689e-08, 7.8858e-14, 2.8724e-09, 1.7602e-07, 6.2619e-07, 1.0792e-08,\n",
            "        1.2416e-10, 5.6456e-08, 1.9770e-09, 4.9963e-11, 9.7223e-06, 2.7318e-07,\n",
            "        1.7362e-09, 2.3353e-07, 4.7886e-10, 3.2460e-07])\n",
            "x2 tensor([0, 1, 1, 1, 0, 1, 0, 1, 1, 1, 1, 1, 1, 1, 1, 1, 1, 1, 1, 1, 1, 1, 1, 1,\n",
            "        1, 1, 1, 0, 1, 0, 1, 1, 1, 1, 1, 1, 1, 0, 1, 1, 1, 1, 1, 1, 1, 1, 1, 1,\n",
            "        1, 1, 1, 1, 1, 1, 1, 1, 1, 1, 1, 1, 1, 1, 1, 1, 1, 1, 1, 1, 1, 1, 1, 1,\n",
            "        1, 1, 1, 1, 1, 1, 1, 1, 1, 1, 1, 1, 1, 1, 1, 1, 1, 1, 1, 1, 1, 1, 1, 1,\n",
            "        1, 1, 1, 1])\n",
            "y2 tensor([1, 0, 0, 0, 1, 0, 1, 0, 0, 0, 0, 0, 0, 0, 0, 0, 0, 0, 0, 0, 0, 0, 0, 0,\n",
            "        0, 0, 0, 1, 0, 1, 0, 0, 0, 0, 0, 0, 0, 1, 0, 0, 0, 0, 0, 0, 0, 0, 0, 0,\n",
            "        0, 0, 0, 0, 0, 0, 0, 0, 0, 0, 0, 0, 0, 0, 0, 0, 0, 0, 0, 0, 0, 0, 0, 0,\n",
            "        0, 0, 0, 0, 0, 0, 0, 0, 0, 0, 0, 0, 0, 0, 0, 0, 0, 0, 0, 0, 0, 0, 0, 0,\n",
            "        0, 0, 0, 0])\n",
            "m tensor([[0, 1, 1, 1, 0, 1, 0, 1, 1, 1, 1, 1, 1, 1, 1, 1, 1, 1, 1, 1, 1, 1, 1, 1,\n",
            "         1, 1, 1, 0, 1, 0, 1, 1, 1, 1, 1, 1, 1, 0, 1, 1, 1, 1, 1, 1, 1, 1, 1, 1,\n",
            "         1, 1, 1, 1, 1, 1, 1, 1, 1, 1, 1, 1, 1, 1, 1, 1, 1, 1, 1, 1, 1, 1, 1, 1,\n",
            "         1, 1, 1, 1, 1, 1, 1, 1, 1, 1, 1, 1, 1, 1, 1, 1, 1, 1, 1, 1, 1, 1, 1, 1,\n",
            "         1, 1, 1, 1],\n",
            "        [1, 0, 0, 0, 1, 0, 1, 0, 0, 0, 0, 0, 0, 0, 0, 0, 0, 0, 0, 0, 0, 0, 0, 0,\n",
            "         0, 0, 0, 1, 0, 1, 0, 0, 0, 0, 0, 0, 0, 1, 0, 0, 0, 0, 0, 0, 0, 0, 0, 0,\n",
            "         0, 0, 0, 0, 0, 0, 0, 0, 0, 0, 0, 0, 0, 0, 0, 0, 0, 0, 0, 0, 0, 0, 0, 0,\n",
            "         0, 0, 0, 0, 0, 0, 0, 0, 0, 0, 0, 0, 0, 0, 0, 0, 0, 0, 0, 0, 0, 0, 0, 0,\n",
            "         0, 0, 0, 0]])\n"
          ]
        },
        {
          "output_type": "display_data",
          "data": {
            "text/plain": [
              "<Figure size 432x288 with 1 Axes>"
            ],
            "image/png": "[encoded data removed]"
          },
          "metadata": {
            "needs_background": "light"
          }
        }
      ]
    },
    {
      "cell_type": "code",
      "source": [
        "p21 = recalculate_parameters(one_hot_vector2[0])\n",
        "p22 = recalculate_parameters(one_hot_vector2[1])\n",
        "\n",
        "p23 = torch.stack([p21, p22])\n",
        "print(p23)"
      ],
      "metadata": {
        "colab": {
          "base_uri": "https://localhost:8080/",
          "height": 300
        },
        "id": "RSH03rG5Vh8v",
        "outputId": "99378a51-c92c-4aee-bcd6-cb21cc750bb4"
      },
      "execution_count": null,
      "outputs": [
        {
          "output_type": "stream",
          "name": "stdout",
          "text": [
            "tensor([[94.0000,  5.6970],\n",
            "        [ 6.0000,  5.6970]])\n"
          ]
        },
        {
          "output_type": "display_data",
          "data": {
            "text/plain": [
              "<Figure size 432x288 with 1 Axes>"
            ],
            "image/png": "[encoded data removed]"
          },
          "metadata": {
            "needs_background": "light"
          }
        }
      ]
    },
    {
      "cell_type": "code",
      "source": [
        "one_hot_vector3 = calculate_membership_dataset(p23, generator.generated_output)"
      ],
      "metadata": {
        "id": "UGKP4NOLgU9A",
        "outputId": "0c6dce1e-758c-43cc-acee-2349f0e58ae5",
        "colab": {
          "base_uri": "https://localhost:8080/",
          "height": 1000
        }
      },
      "execution_count": null,
      "outputs": [
        {
          "output_type": "stream",
          "name": "stdout",
          "text": [
            "x tensor([8.4670e-32, 4.0393e-02, 1.9114e-04, 2.9230e-02, 8.4914e-23, 8.0831e-13,\n",
            "        3.2020e-18, 6.9998e-02, 1.1415e-05, 4.5106e-02, 2.8275e-04, 6.1672e-02,\n",
            "        1.3258e-09, 2.1702e-05, 4.6227e-02, 1.5028e-02, 2.0229e-09, 7.7732e-10,\n",
            "        4.8052e-02, 6.3212e-02, 7.0199e-04, 2.0478e-04, 3.2261e-06, 1.8966e-06,\n",
            "        8.9228e-04, 8.3950e-07, 6.8406e-02, 4.1377e-20, 1.8518e-12, 1.4787e-17,\n",
            "        1.6770e-05, 1.8400e-02, 6.8378e-02, 7.7882e-04, 6.6048e-02, 5.5867e-03,\n",
            "        3.2786e-06, 2.5499e-27, 4.3196e-12, 2.7507e-09, 4.5037e-02, 3.0779e-02,\n",
            "        3.7474e-03, 5.6855e-02, 9.7715e-15, 6.6578e-06, 1.7969e-02, 7.4226e-05,\n",
            "        1.8244e-05, 7.9017e-12, 0.0000e+00, 0.0000e+00, 4.3694e-31, 0.0000e+00,\n",
            "        0.0000e+00, 0.0000e+00, 0.0000e+00, 5.6052e-45, 4.9556e-30, 2.5453e-18,\n",
            "        0.0000e+00, 0.0000e+00, 0.0000e+00, 0.0000e+00, 0.0000e+00, 5.3303e-41,\n",
            "        0.0000e+00, 0.0000e+00, 0.0000e+00, 2.2421e-44, 0.0000e+00, 0.0000e+00,\n",
            "        7.7941e-35, 0.0000e+00, 1.7427e-39, 0.0000e+00, 0.0000e+00, 0.0000e+00,\n",
            "        0.0000e+00, 0.0000e+00, 1.4542e-28, 0.0000e+00, 0.0000e+00, 0.0000e+00,\n",
            "        0.0000e+00, 0.0000e+00, 0.0000e+00, 4.4476e-40, 2.0437e-33, 0.0000e+00,\n",
            "        0.0000e+00, 0.0000e+00, 0.0000e+00, 0.0000e+00, 5.0900e-20, 9.6175e-38,\n",
            "        0.0000e+00, 1.4231e-38, 0.0000e+00, 7.7899e-37])\n",
            "y tensor([7.2109e-05, 0.0000e+00, 3.3161e-33, 2.8026e-45, 9.0482e-09, 5.0881e-17,\n",
            "        7.6936e-12, 0.0000e+00, 0.0000e+00, 0.0000e+00, 8.1866e-34, 0.0000e+00,\n",
            "        2.0751e-21, 0.0000e+00, 0.0000e+00, 1.3621e-42, 1.0529e-21, 0.0000e+00,\n",
            "        0.0000e+00, 0.0000e+00, 0.0000e+00, 2.6036e-33, 4.7393e-28, 0.0000e+00,\n",
            "        0.0000e+00, 1.1170e-26, 0.0000e+00, 1.8564e-10, 1.8900e-17, 2.2652e-12,\n",
            "        6.3924e-30, 0.0000e+00, 0.0000e+00, 1.5926e-35, 0.0000e+00, 1.0490e-39,\n",
            "        4.5547e-28, 1.5992e-06, 6.6523e-18, 6.3739e-22, 0.0000e+00, 0.0000e+00,\n",
            "        9.8846e-39, 0.0000e+00, 6.2246e-15, 0.0000e+00, 3.2090e-43, 7.7251e-32,\n",
            "        5.0523e-30, 3.0944e-18, 0.0000e+00, 0.0000e+00, 0.0000e+00, 0.0000e+00,\n",
            "        0.0000e+00, 0.0000e+00, 0.0000e+00, 0.0000e+00, 0.0000e+00, 0.0000e+00,\n",
            "        0.0000e+00, 0.0000e+00, 0.0000e+00, 0.0000e+00, 0.0000e+00, 0.0000e+00,\n",
            "        0.0000e+00, 0.0000e+00, 0.0000e+00, 0.0000e+00, 0.0000e+00, 0.0000e+00,\n",
            "        0.0000e+00, 0.0000e+00, 0.0000e+00, 0.0000e+00, 0.0000e+00, 0.0000e+00,\n",
            "        0.0000e+00, 0.0000e+00, 0.0000e+00, 0.0000e+00, 0.0000e+00, 0.0000e+00,\n",
            "        0.0000e+00, 0.0000e+00, 0.0000e+00, 0.0000e+00, 0.0000e+00, 0.0000e+00,\n",
            "        0.0000e+00, 0.0000e+00, 0.0000e+00, 0.0000e+00, 0.0000e+00, 0.0000e+00,\n",
            "        0.0000e+00, 0.0000e+00, 0.0000e+00, 0.0000e+00])\n",
            "x2 tensor([0, 1, 1, 1, 0, 1, 0, 1, 1, 1, 1, 1, 1, 1, 1, 1, 1, 1, 1, 1, 1, 1, 1, 1,\n",
            "        1, 1, 1, 0, 1, 0, 1, 1, 1, 1, 1, 1, 1, 0, 1, 1, 1, 1, 1, 1, 1, 1, 1, 1,\n",
            "        1, 1, 0, 0, 1, 0, 0, 0, 0, 1, 1, 1, 0, 0, 0, 0, 0, 1, 0, 0, 0, 1, 0, 0,\n",
            "        1, 0, 1, 0, 0, 0, 0, 0, 1, 0, 0, 0, 0, 0, 0, 1, 1, 0, 0, 0, 0, 0, 1, 1,\n",
            "        0, 1, 0, 1])\n",
            "y2 tensor([1, 0, 0, 0, 1, 0, 1, 0, 0, 0, 0, 0, 0, 0, 0, 0, 0, 0, 0, 0, 0, 0, 0, 0,\n",
            "        0, 0, 0, 1, 0, 1, 0, 0, 0, 0, 0, 0, 0, 1, 0, 0, 0, 0, 0, 0, 0, 0, 0, 0,\n",
            "        0, 0, 0, 0, 0, 0, 0, 0, 0, 0, 0, 0, 0, 0, 0, 0, 0, 0, 0, 0, 0, 0, 0, 0,\n",
            "        0, 0, 0, 0, 0, 0, 0, 0, 0, 0, 0, 0, 0, 0, 0, 0, 0, 0, 0, 0, 0, 0, 0, 0,\n",
            "        0, 0, 0, 0])\n",
            "m tensor([[0, 1, 1, 1, 0, 1, 0, 1, 1, 1, 1, 1, 1, 1, 1, 1, 1, 1, 1, 1, 1, 1, 1, 1,\n",
            "         1, 1, 1, 0, 1, 0, 1, 1, 1, 1, 1, 1, 1, 0, 1, 1, 1, 1, 1, 1, 1, 1, 1, 1,\n",
            "         1, 1, 0, 0, 1, 0, 0, 0, 0, 1, 1, 1, 0, 0, 0, 0, 0, 1, 0, 0, 0, 1, 0, 0,\n",
            "         1, 0, 1, 0, 0, 0, 0, 0, 1, 0, 0, 0, 0, 0, 0, 1, 1, 0, 0, 0, 0, 0, 1, 1,\n",
            "         0, 1, 0, 1],\n",
            "        [1, 0, 0, 0, 1, 0, 1, 0, 0, 0, 0, 0, 0, 0, 0, 0, 0, 0, 0, 0, 0, 0, 0, 0,\n",
            "         0, 0, 0, 1, 0, 1, 0, 0, 0, 0, 0, 0, 0, 1, 0, 0, 0, 0, 0, 0, 0, 0, 0, 0,\n",
            "         0, 0, 0, 0, 0, 0, 0, 0, 0, 0, 0, 0, 0, 0, 0, 0, 0, 0, 0, 0, 0, 0, 0, 0,\n",
            "         0, 0, 0, 0, 0, 0, 0, 0, 0, 0, 0, 0, 0, 0, 0, 0, 0, 0, 0, 0, 0, 0, 0, 0,\n",
            "         0, 0, 0, 0]])\n"
          ]
        },
        {
          "output_type": "display_data",
          "data": {
            "text/plain": [
              "<Figure size 432x288 with 1 Axes>"
            ],
            "image/png": "[encoded data removed]"
          },
          "metadata": {
            "needs_background": "light"
          }
        }
      ]
    }
  ]
}
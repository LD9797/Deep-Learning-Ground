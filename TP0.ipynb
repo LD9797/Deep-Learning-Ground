{
  "nbformat": 4,
  "nbformat_minor": 0,
  "metadata": {
    "colab": {
      "provenance": [],
      "collapsed_sections": []
    },
    "kernelspec": {
      "name": "python3",
      "display_name": "Python 3"
    },
    "language_info": {
      "name": "python"
    }
  },
  "cells": [
    {
      "cell_type": "markdown",
      "source": [
        "###**Import de librerías**"
      ],
      "metadata": {
        "id": "KR1GpX8m_l1B"
      }
    },
    {
      "cell_type": "code",
      "execution_count": null,
      "metadata": {
        "id": "DxsNjlpLyGtI"
      },
      "outputs": [],
      "source": [
        "import math\n",
        "import torch\n",
        "import random\n",
        "from matplotlib import cm\n",
        "import scipy.stats as stats\n",
        "import matplotlib.pyplot as plt"
      ]
    },
    {
      "cell_type": "markdown",
      "source": [
        "###**2- (30 puntos) Funciones multivariable**\n"
      ],
      "metadata": {
        "id": "Wi0XP-bHYS8r"
      }
    },
    {
      "cell_type": "markdown",
      "source": [
        "####1. **El vector gradiente**:\n",
        "\n",
        "Para cada una de las siguientes funciones multivariable: grafique su superficie, calcule el vector gradiente manualmente, evaluelo y grafique el vector unitario o de largo conveniente para su visualización, en la dirección del gradiente para los dos puntos especificados (en la misma figura de la superficie). Finalmente calcule la magnitud de tal vector gradiente en cada punto."
      ],
      "metadata": {
        "id": "lGZZmVP4_NXg"
      }
    },
    {
      "cell_type": "markdown",
      "source": [
        "#####**c) (5 puntos)** $z=f\\left(x,y\\right)=4x^{2}+2x+e^{2x}+5y^{2}+e^{3y}+1$, evaluación del gradiente en los puntos $P_{0}=\\left(2,1\\right)$ y $P_{1}=\\left(5,7\\right)$.\n",
        "\n",
        "> Dada la función anterior, el gradiente de la primera función estaría dado por las siguientes derivadas parciales:\n",
        "\n",
        "> $\\nabla f\\left(x,y\\right)=\\begin{cases}\n",
        "\\frac{\\delta}{\\delta x}4x^{2}+2x+e^{2x}+5y^{2}+e^{3y}+1= & 2e^{2x}+8x+2\\\\\n",
        "\\frac{\\delta}{\\delta y}4x^{2}+2x+e^{2x}+5y^{2}+e^{3y}+1= & 3e^{3y}+10y\n",
        "\\end{cases}$"
      ],
      "metadata": {
        "id": "emPgZZ9lq7pr"
      }
    },
    {
      "cell_type": "code",
      "source": [
        "def funcion_c(x, y):\n",
        "  return (4*x**2)+(2*x)+(math.e**(2*x))+(5*(y**2))+(math.e**(3*y))+1\n",
        "\n",
        "def derivada_funcion_c_1(x):\n",
        "  return (2*(math.e**(2*x)))+(8*x)+2\n",
        "\n",
        "def derivada_funcion_c_2(x):\n",
        "  return (3*(math.e**(3*x)))+(10*x)"
      ],
      "metadata": {
        "id": "yi1-zPVmqQlW"
      },
      "execution_count": null,
      "outputs": []
    },
    {
      "cell_type": "markdown",
      "source": [
        "> Al evaluar ambos puntos, siendo estos $P_{0}=\\left(2,1\\right)$ y $P_{1}=\\left(5,7\\right)$, se obtienen los siguientes resultados:"
      ],
      "metadata": {
        "id": "_1yxXGcaz44i"
      }
    },
    {
      "cell_type": "code",
      "source": [
        "gradiente_punto_0 = torch.tensor([derivada_funcion_c_1(2), derivada_funcion_c_2(1), 0])\n",
        "print(\"Gradiente evaluado en P0: \", gradiente_punto_0)\n",
        "print(\"Magnitud del gradiente evaluado en P0: \", torch.norm(gradiente_punto_0), \"\\n\")\n",
        "\n",
        "gradiente_punto_1 = torch.tensor([derivada_funcion_c_1(5), derivada_funcion_c_2(7), 0])\n",
        "print(\"Gradiente evaluado en P1: \", gradiente_punto_1)\n",
        "print(\"Magnitud del gradiente evaluado en P1: \", torch.norm(gradiente_punto_1))"
      ],
      "metadata": {
        "colab": {
          "base_uri": "https://localhost:8080/"
        },
        "id": "6l-dRR3EGt-5",
        "outputId": "f3be70ae-cd79-45a3-d460-e1ade5b56fd4"
      },
      "execution_count": null,
      "outputs": [
        {
          "output_type": "stream",
          "name": "stdout",
          "text": [
            "Gradiente evaluado en P0:  tensor([127.1963,  70.2566,   0.0000])\n",
            "Magnitud del gradiente evaluado en P0:  tensor(145.3096) \n",
            "\n",
            "Gradiente evaluado en P1:  tensor([4.4095e+04, 3.9564e+09, 0.0000e+00])\n",
            "Magnitud del gradiente evaluado en P1:  tensor(3.9564e+09)\n"
          ]
        }
      ]
    },
    {
      "cell_type": "markdown",
      "source": [
        "> A continuación se presenta el gráfico respectivo: la superficie abarcada por la función en la maya de coordenadas junto con los dos vectores resultantes de la evaluación de cada uno de los dos puntos especificados en el vector gradiente obtenido de las derivadas parciales anteriormente calculadas:"
      ],
      "metadata": {
        "id": "3uwopca7PWQu"
      }
    },
    {
      "cell_type": "code",
      "source": [
        "def evaluar_grandiente(inicio, arrange):\n",
        "    xs = torch.linspace(arrange[0], arrange[1], steps=256)  # x1\n",
        "    ys = torch.linspace(arrange[0], arrange[1], steps=256)  # x2\n",
        "    x, y = torch.meshgrid(xs, ys, indexing='xy')\n",
        "\n",
        "    #  Se presentan los vectores y la superficie de la función en el resultado\n",
        "    ax = plt.axes(projection='3d')\n",
        "    ax.quiver(inicio[0], inicio[1], inicio[2], gradiente_punto_0[0], gradiente_punto_0[1], gradiente_punto_0[2])\n",
        "    ax.quiver(inicio[0], inicio[1], inicio[2], gradiente_punto_1[0], gradiente_punto_1[1], gradiente_punto_1[2])\n",
        "    ax.plot_surface(x.numpy(), y.numpy(), funcion_c(x, y).numpy(), cmap=cm.coolwarm, linewidth=0, antialiased=False)\n",
        "    plt.show()\n",
        "\n",
        "evaluar_grandiente([0, 0, 0], [-1, 1])"
      ],
      "metadata": {
        "colab": {
          "base_uri": "https://localhost:8080/",
          "height": 248
        },
        "id": "NMutg5RbyU1m",
        "outputId": "967149cb-1cac-426f-b9fb-8585f053127f"
      },
      "execution_count": null,
      "outputs": [
        {
          "output_type": "display_data",
          "data": {
            "text/plain": [
              "<Figure size 432x288 with 1 Axes>"
            ],
            "image/png": "[encoded data removed]"
          },
          "metadata": {
            "needs_background": "light"
          }
        }
      ]
    },
    {
      "cell_type": "markdown",
      "source": [
        "####2. **(10 puntos)** En general, investigue ¿qué es y que indica la matriz Hessiana?"
      ],
      "metadata": {
        "id": "D-sHfchxULlY"
      }
    },
    {
      "cell_type": "markdown",
      "source": [
        "> Sobre las aplicaciones de esta matriz, se pueden citar los siguientes puntos:\n",
        "\n",
        "* Permite encontrar ya sea máximos o mínimos de funciones multivariable. Para conseguir esto, el procedimiento a seguir consiste de obtener los puntos críticos de la función (igualando a cero el vector gradiente y obteniendo los puntos respectivos del despeje) y operarlos con la matriz Hessiana.\n",
        "\n",
        "> Una vez obtenido el resultado, la matriz que se consiguió debe ser evaluada bajo el criterio de: definida positiva, definida negativa, indefinida, etc (lo cual puede ser establecido con el Criterio de los valores propios o con el Criterio de Sylvester).\n",
        "\n",
        "> Dependiendo del tipo de matriz obtenida, así podrá definirse el punto que fue utilizado para el cálculo (máximo, mínimo o un punto neutro).\n",
        "\n",
        "\n",
        "* También permite saber si una función es cóncava o convexa con respecto a un conjunto de puntos pertenecientes a la función, aplicando nuevamente el concepto de definida positiva, definida negativa, indefinida, etc.\n",
        "\n",
        "Fuentes utilizadas para cálculo y usos:\n",
        "* [Matriz Hessiana (o Hessiano)](https://www.matricesydeterminantes.com/matrices/matriz-hessiana-hessiano-2x2-3x3/)\n",
        "* [La matriz hessiana](https://es.khanacademy.org/math/multivariable-calculus/applications-of-multivariable-derivatives/quadratic-approximations/a/the-hessian)"
      ],
      "metadata": {
        "id": "KK130dIG_dUx"
      }
    },
    {
      "cell_type": "markdown",
      "source": [
        "#####**c) (5 puntos)** $z=f\\left(x,y\\right)=4x^{2}+2x+e^{2x}+5y^{2}+e^{3y}+1$"
      ],
      "metadata": {
        "id": "IK2XYdDg_4-d"
      }
    },
    {
      "cell_type": "markdown",
      "source": [
        "La matriz Hessiana para este ejercicio está dada por las siguiente derivadas de segundo orden:\n",
        "\n",
        "* $f_{xx}\\left(x,y\\right)=\\frac{\\delta}{\\delta x}\\left(2e^{2x}+8x+2\\right)=4e^{2x}+10$\n",
        "\n",
        "* $f_{xy}\\left(x,y\\right)=\\frac{\\delta}{\\delta y}\\left(2e^{2x}+8x+2\\right)=0$\n",
        "\n",
        "* $f_{yx}\\left(x,y\\right)=\\frac{\\delta}{\\delta x}\\left(3e^{3y}+10y\\right)=0$\n",
        "\n",
        "* $f_{yy}\\left(x,y\\right)=\\frac{\\delta}{\\delta y}\\left(3e^{3y}+10y\\right)=9e^{3y}+10$\n",
        "\n",
        "> Esto, organizado en lo que llamaríamos la matriz Hessiana, resulta en la siguiente matriz:\n",
        "\n",
        "> $\\mathbf{H}f\\left(x,y\\right)=\\left[\\begin{array}{cc}\n",
        "f_{xx}\\left(x,y\\right) & f_{yx}\\left(x,y\\right)\\\\\n",
        "f_{xy}\\left(x,y\\right) & f_{yy}\\left(x,y\\right)\n",
        "\\end{array}\\right]=\\left[\\begin{array}{cc}\n",
        "4e^{2x}+10 & 0\\\\\n",
        "0 & 9e^{3y}+10\n",
        "\\end{array}\\right]$\n",
        "\n",
        "Al evaluar esta matriz con los valores de los dos puntos respectivos, se obtienen las siguientes matrices:\n",
        "\n",
        "1. Para el punto $P_{0}=\\left(2,1\\right)$, la matriz resultante está dada por:\n",
        "\n",
        "> $=\\left[\\begin{array}{cc}\n",
        "4e^{4}+10 & 0\\\\\n",
        "0 & 9e^{3}+10\n",
        "\\end{array}\\right]$\n",
        "\n",
        "2. Para el punto $P_{0}=\\left(5,7\\right)$, la matriz resultante está dada por:\n",
        "\n",
        "> $=\\left[\\begin{array}{cc}\n",
        "4e^{10}+10 & 0\\\\\n",
        "0 & 9e^{21}+10\n",
        "\\end{array}\\right]$"
      ],
      "metadata": {
        "id": "imCmMiZG2aO0"
      }
    },
    {
      "cell_type": "markdown",
      "source": [
        "###**3- (50 puntos) Probabilidades: Algoritmo de Maximización de la Esperanza**"
      ],
      "metadata": {
        "id": "ntAgHSFflSj7"
      }
    },
    {
      "cell_type": "markdown",
      "source": [
        "A continuación, implemente el algoritmo de maximización de la esperanza (descrito en el material del curso), usando la definición y descripción de las siguientes funciones como base:"
      ],
      "metadata": {
        "id": "bpB9bisoAU0p"
      }
    },
    {
      "cell_type": "markdown",
      "source": [
        "####1. **(5 puntos)** Función ***generate_data***:"
      ],
      "metadata": {
        "id": "HBfWg6z-AYIp"
      }
    },
    {
      "cell_type": "markdown",
      "source": [
        "Implemente la función *generate_data* la cual reciba la cantidad de observaciones unidimensionales total a generar $N$, y los parámetros correspondientes a $K=2$ funciones de densidad Gaussianas. Genere los datos siguiendo tales distribuciones, y retorne tal matriz de datos $X\\in\\mathbb{R}^{N}$.\n",
        "\n",
        "* Grafique los datos usando un *scatter plot* junto con las gráficas de la función de densidad de probabilidad, en la misma figura (gráfico)."
      ],
      "metadata": {
        "id": "XzG4dsU4A88q"
      }
    },
    {
      "cell_type": "code",
      "source": [
        "def get_color(i):\n",
        "  colors = \"rbgcmykw\"\n",
        "  return colors[i % len(colors)]\n",
        "\n",
        "class Random_Data_Generator:\n",
        "  def __init__(self, total_samples:int, total_distributions:int, offset:int, expected_sigma_range:set):\n",
        "    self.offset = offset\n",
        "    self.total_samples = total_samples\n",
        "    self.total_distributions = total_distributions\n",
        "    self.expected_sigma_range = expected_sigma_range\n",
        "    self.set_default_to_variables()\n",
        "  \n",
        "  def set_default_to_variables(self):\n",
        "    self.curr_offset = 0\n",
        "    self.generated_output = torch.tensor([])\n",
        "    self.real_parameters = torch.zeros(self.total_distributions, 2)\n",
        "    self.samples_per_tensor = self.total_samples // self.total_distributions\n",
        "  \n",
        "  def generate_data(self):\n",
        "    self.y = torch.zeros(self.samples_per_tensor)\n",
        "    output = torch.stack(self.generate_data_aux(self.samples_per_tensor))\n",
        "    self.generated_output = output.view(*output.shape[:0], -1, *output.shape[self.total_distributions:])\n",
        "  \n",
        "  def generate_data_aux(self, n_aux:int, curr_dist:int=0):\n",
        "    sig_const = self.expected_sigma_range\n",
        "    st = self.real_parameters[curr_dist][1] = random.randint(sig_const[0], sig_const[1])\n",
        "    mu = self.real_parameters[curr_dist][0] = self.curr_offset + self.offset - st\n",
        "    \n",
        "    x = torch.normal(mean=mu, std=st, size=(1, n_aux))[0]\n",
        "    xcord = torch.linspace(torch.min(x) - st, torch.max(x) + st, 100)\n",
        "    \n",
        "    plt.plot(xcord, stats.norm.pdf(xcord, mu, st))\n",
        "    plt.scatter(x, self.y, c = get_color(curr_dist))\n",
        "    res_aux = [x]\n",
        "\n",
        "    if curr_dist + 1 < self.total_distributions:\n",
        "      new_k = curr_dist + 1\n",
        "      self.curr_offset = self.curr_offset + self.offset\n",
        "      new_data = self.generate_data_aux(n_aux, new_k)\n",
        "      res_aux.extend(new_data)\n",
        "    \n",
        "    return res_aux"
      ],
      "metadata": {
        "id": "XXKI7Dv45ENv"
      },
      "execution_count": null,
      "outputs": []
    },
    {
      "cell_type": "code",
      "source": [
        "generator = Random_Data_Generator(100, 2, 100, (10, 30))\n",
        "generator.generate_data()\n",
        "\n",
        "print('--> La matriz K = ', generator.total_distributions, 'tiene las siguientes '\n",
        "      'muestras: \\n', generator.generated_output, '\\n')\n",
        "\n",
        "print('--> Adicionalmente, los parámetros generados para dichas dimensiones son: ',\n",
        "      '\\n ', generator.real_parameters)"
      ],
      "metadata": {
        "colab": {
          "base_uri": "https://localhost:8080/",
          "height": 625
        },
        "id": "Bky3uzypLqI8",
        "outputId": "6e8b2294-71b9-48e7-e922-986c09a3612c"
      },
      "execution_count": null,
      "outputs": [
        {
          "output_type": "stream",
          "name": "stdout",
          "text": [
            "--> La matriz K =  2 tiene las siguientes muestras: \n",
            " tensor([ 99.7172,  93.2590, 102.6616,  89.4881,  71.7460, 103.5570,  77.5287,\n",
            "         98.9228, 105.6536, 100.1406,  90.2268,  78.4652,  84.6746,  83.0707,\n",
            "         86.9257,  75.9212,  81.3755,  68.2886,  91.3079,  74.5129,  86.0879,\n",
            "        104.6625,  88.0185,  89.4202,  77.0494,  81.5553,  94.1631, 108.5633,\n",
            "         60.1996,  81.2386,  76.3134,  79.6736,  84.0538, 102.9301,  95.1258,\n",
            "         95.8116,  92.6690, 103.5091, 100.9305,  96.2508,  87.9154,  90.2670,\n",
            "         65.8150,  79.6464,  92.5256,  92.7068,  67.4608, 102.1419, 102.7002,\n",
            "         84.9438, 136.4977, 172.4568, 198.4190, 151.2430, 176.6761, 162.8690,\n",
            "        183.9581, 193.1400, 185.9298, 176.0625, 141.2269, 188.0042, 113.8762,\n",
            "        182.8490, 168.7473, 173.0450, 175.3081, 165.5843, 180.6487, 181.5163,\n",
            "        181.6339, 131.6175, 104.7298, 181.0093, 215.6434, 109.4589, 179.1960,\n",
            "        154.8376, 160.5625, 168.0946, 173.0795, 169.6244, 142.0151, 180.3988,\n",
            "        158.7982, 131.9757, 151.6000, 242.0747, 222.2110, 210.2564, 207.5842,\n",
            "        191.2867, 162.1111, 176.6705, 183.0593, 178.4754, 190.5686, 166.1886,\n",
            "        177.1121, 174.4457]) \n",
            "\n",
            "--> Adicionalmente, los parámetros generados para dichas dimensiones son:  \n",
            "  tensor([[ 89.,  11.],\n",
            "        [176.,  24.]])\n"
          ]
        },
        {
          "output_type": "display_data",
          "data": {
            "text/plain": [
              "<Figure size 432x288 with 1 Axes>"
            ],
            "image/png": "[encoded data removed]"
          },
          "metadata": {
            "needs_background": "light"
          }
        }
      ]
    },
    {
      "cell_type": "markdown",
      "source": [
        "####2. **(5 puntos)** Función ***init_random_parameters***:"
      ],
      "metadata": {
        "id": "d5EfybHdNv3b"
      }
    },
    {
      "cell_type": "markdown",
      "source": [
        "Implemente la función *init_random_parameters* la cual genere una matriz de $P\\in\\mathbb{R}^{K\\times2}$ dimensiones, con los parámetros de las funciones de densidad Gaussiana generados completamente al azar.\n",
        "\n",
        "* Muestre un pantallazo donde verifique su funcionamiento correcto con los comentarios asociados."
      ],
      "metadata": {
        "id": "sD8HOlGyP06H"
      }
    },
    {
      "cell_type": "code",
      "source": [
        "def init_random_parameters(k):\n",
        "  return torch.randint(0, generator.curr_offset + generator.offset, (2,k))\n",
        "\n",
        "curr_parameters = init_random_parameters(generator.total_distributions)\n",
        "print('--> Parámetros aleatorios calculados para el inicio del algoritmo: \\n',\n",
        "      curr_parameters)"
      ],
      "metadata": {
        "colab": {
          "base_uri": "https://localhost:8080/"
        },
        "id": "49EkYgK0Nwlk",
        "outputId": "186c5caf-080f-4e80-ef3e-15c7ee42ec16"
      },
      "execution_count": null,
      "outputs": [
        {
          "output_type": "stream",
          "name": "stdout",
          "text": [
            "--> Parámetros aleatorios calculados para el inicio del algoritmo: \n",
            " tensor([[167, 160],\n",
            "        [186, 162]])\n"
          ]
        }
      ]
    },
    {
      "cell_type": "markdown",
      "source": [
        "> El objetivo con esta función es calcular la matriz de parámetros de la forma más sencilla y directa posible. Para lograr esto, los únicos límites aplicados para la definición del *aleatorio* es el siguiente rango permitido para calcular los valores aleatorios que estarán en la matriz de salida:\n",
        "\n",
        "> $[0, curr\\_offset + offset]$\n",
        "\n",
        "> Este rango viene definido enteramente desde la función anterior de *generate_data* donde:\n",
        "\n",
        "* El límite inferior 0 corresponde con el valor inicial que tiene la variable $curr\\_offset$ establecido por defecto en la clase generadora de datos aleatorios.\n",
        "* El límite superior $curr\\_offset + offset$ corresponde a un $offset$ que es definido antes de ejecutar la función de *generate_data* y a un $curr\\_offset$ que va incrementando $offset$ con cada dimensión de data que se agrega al dataset final de pruebas.\n",
        "\n",
        "> De esta forma, se garantiza que los valores aleatorios vayan a caer en un rango de valores que no sea el máximo requerido al momento de generar la muestra. Esto evita valores que se alejen mucho por número muy pequeños o muy grandes.\n",
        "\n",
        "> Sin embargo, este rango no evita que se caiga en sitios muy aislados de las *islas* generadas por los K grupos de datos, de forma que es muy mejorable para el punto final de esta pregunta."
      ],
      "metadata": {
        "id": "WMUbPtRVadrF"
      }
    },
    {
      "cell_type": "markdown",
      "source": [
        "####3. **(5 puntos)** Función ***calculate_likelihood***:"
      ],
      "metadata": {
        "id": "BO4NQMcyZKCF"
      }
    },
    {
      "cell_type": "markdown",
      "source": [
        "Implemente la función *calculate_likelihood_gaussian_observations(x_n, mu_k, sigma_k)* la cual calcule la verosimilitud de una observacion específica $x_n$, para una función de densidad Gaussiana con parámetros $µ_k$ y $σ_k$.\n",
        "\n",
        "* Muestre un pantallazo donde verifique su funcionamiento correcto con los comentarios asociados."
      ],
      "metadata": {
        "id": "SaQW6oTNZSmY"
      }
    },
    {
      "cell_type": "code",
      "source": [
        "def calculate_likelihood(parameters:torch.tensor, samples:torch.tensor):\n",
        "  bpart = (1 / math.sqrt(2 * math.pi * parameters[1]**2))\n",
        "  fpart = math.e**-(((samples - parameters[0])**2) / (2 * parameters[1]**2))\n",
        "  \n",
        "  return bpart * fpart"
      ],
      "metadata": {
        "id": "DCNX1YibXjGR"
      },
      "execution_count": null,
      "outputs": []
    },
    {
      "cell_type": "code",
      "source": [
        "print('1', calculate_likelihood(curr_parameters[0], torch.tensor([ 72.6379,  90.2191,  68.9609])))\n",
        "\n",
        "print('2', calculate_likelihood(curr_parameters[1], 42.9281))"
      ],
      "metadata": {
        "colab": {
          "base_uri": "https://localhost:8080/"
        },
        "id": "Gy2GBvjZjFvs",
        "outputId": "d4bbec35-bd68-4648-f75d-72a562dc8047"
      },
      "execution_count": null,
      "outputs": [
        {
          "output_type": "stream",
          "name": "stdout",
          "text": [
            "1 tensor([0.0019, 0.0019, 0.0019])\n",
            "2 tensor(0.0017)\n"
          ]
        }
      ]
    },
    {
      "cell_type": "code",
      "source": [
        "def calculate_membership_dataset(parameters, samples):\n",
        "  x = calculate_likelihood(parameters[0], samples)\n",
        "  y = calculate_likelihood(parameters[1], samples)\n",
        "\n",
        "  print('x', x)\n",
        "  print('y', y)\n",
        "\n",
        "  x2 = torch.where(x > y, 1, 0)\n",
        "  y2 = torch.where(y > x, 1, 0)\n",
        "\n",
        "  print('x2', x2)\n",
        "  print('y2', y2)\n",
        "  \n",
        "  m = torch.stack([x2, y2])\n",
        "  print('m', m)\n",
        "\n",
        "calculate_membership_dataset(curr_parameters, generator.generated_output)"
      ],
      "metadata": {
        "colab": {
          "base_uri": "https://localhost:8080/"
        },
        "id": "zZF6DFsxooBF",
        "outputId": "7025cd7f-ec9b-40b5-edb9-ba8b1338114b"
      },
      "execution_count": null,
      "outputs": [
        {
          "output_type": "stream",
          "name": "stdout",
          "text": [
            "x tensor([0.0023, 0.0022, 0.0023, 0.0022, 0.0021, 0.0023, 0.0021, 0.0023, 0.0023,\n",
            "        0.0023, 0.0022, 0.0021, 0.0022, 0.0022, 0.0022, 0.0021, 0.0022, 0.0021,\n",
            "        0.0022, 0.0021, 0.0022, 0.0023, 0.0022, 0.0022, 0.0021, 0.0022, 0.0022,\n",
            "        0.0023, 0.0020, 0.0022, 0.0021, 0.0021, 0.0022, 0.0023, 0.0023, 0.0023,\n",
            "        0.0022, 0.0023, 0.0023, 0.0023, 0.0022, 0.0022, 0.0020, 0.0021, 0.0022,\n",
            "        0.0022, 0.0021, 0.0023, 0.0023, 0.0022, 0.0024, 0.0025, 0.0024, 0.0025,\n",
            "        0.0025, 0.0025, 0.0025, 0.0025, 0.0025, 0.0025, 0.0025, 0.0025, 0.0024,\n",
            "        0.0025, 0.0025, 0.0025, 0.0025, 0.0025, 0.0025, 0.0025, 0.0025, 0.0024,\n",
            "        0.0023, 0.0025, 0.0024, 0.0023, 0.0025, 0.0025, 0.0025, 0.0025, 0.0025,\n",
            "        0.0025, 0.0025, 0.0025, 0.0025, 0.0024, 0.0025, 0.0022, 0.0023, 0.0024,\n",
            "        0.0024, 0.0025, 0.0025, 0.0025, 0.0025, 0.0025, 0.0025, 0.0025, 0.0025,\n",
            "        0.0025])\n",
            "y tensor([0.0021, 0.0021, 0.0022, 0.0021, 0.0019, 0.0022, 0.0020, 0.0021, 0.0022,\n",
            "        0.0021, 0.0021, 0.0020, 0.0020, 0.0020, 0.0020, 0.0020, 0.0020, 0.0019,\n",
            "        0.0021, 0.0019, 0.0020, 0.0022, 0.0021, 0.0021, 0.0020, 0.0020, 0.0021,\n",
            "        0.0022, 0.0018, 0.0020, 0.0020, 0.0020, 0.0020, 0.0022, 0.0021, 0.0021,\n",
            "        0.0021, 0.0022, 0.0021, 0.0021, 0.0021, 0.0021, 0.0019, 0.0020, 0.0021,\n",
            "        0.0021, 0.0019, 0.0022, 0.0022, 0.0020, 0.0024, 0.0025, 0.0025, 0.0024,\n",
            "        0.0025, 0.0024, 0.0025, 0.0025, 0.0025, 0.0025, 0.0024, 0.0025, 0.0022,\n",
            "        0.0025, 0.0024, 0.0025, 0.0025, 0.0024, 0.0025, 0.0025, 0.0025, 0.0023,\n",
            "        0.0022, 0.0025, 0.0024, 0.0022, 0.0025, 0.0024, 0.0024, 0.0024, 0.0025,\n",
            "        0.0025, 0.0024, 0.0025, 0.0024, 0.0023, 0.0024, 0.0023, 0.0024, 0.0024,\n",
            "        0.0024, 0.0025, 0.0024, 0.0025, 0.0025, 0.0025, 0.0025, 0.0024, 0.0025,\n",
            "        0.0025])\n",
            "x2 tensor([1, 1, 1, 1, 1, 1, 1, 1, 1, 1, 1, 1, 1, 1, 1, 1, 1, 1, 1, 1, 1, 1, 1, 1,\n",
            "        1, 1, 1, 1, 1, 1, 1, 1, 1, 1, 1, 1, 1, 1, 1, 1, 1, 1, 1, 1, 1, 1, 1, 1,\n",
            "        1, 1, 1, 1, 0, 1, 1, 1, 1, 1, 1, 1, 1, 1, 1, 1, 1, 1, 1, 1, 1, 1, 1, 1,\n",
            "        1, 1, 0, 1, 1, 1, 1, 1, 1, 1, 1, 1, 1, 1, 1, 0, 0, 0, 0, 1, 1, 1, 1, 1,\n",
            "        1, 1, 1, 1])\n",
            "y2 tensor([0, 0, 0, 0, 0, 0, 0, 0, 0, 0, 0, 0, 0, 0, 0, 0, 0, 0, 0, 0, 0, 0, 0, 0,\n",
            "        0, 0, 0, 0, 0, 0, 0, 0, 0, 0, 0, 0, 0, 0, 0, 0, 0, 0, 0, 0, 0, 0, 0, 0,\n",
            "        0, 0, 0, 0, 1, 0, 0, 0, 0, 0, 0, 0, 0, 0, 0, 0, 0, 0, 0, 0, 0, 0, 0, 0,\n",
            "        0, 0, 1, 0, 0, 0, 0, 0, 0, 0, 0, 0, 0, 0, 0, 1, 1, 1, 1, 0, 0, 0, 0, 0,\n",
            "        0, 0, 0, 0])\n",
            "m tensor([[1, 1, 1, 1, 1, 1, 1, 1, 1, 1, 1, 1, 1, 1, 1, 1, 1, 1, 1, 1, 1, 1, 1, 1,\n",
            "         1, 1, 1, 1, 1, 1, 1, 1, 1, 1, 1, 1, 1, 1, 1, 1, 1, 1, 1, 1, 1, 1, 1, 1,\n",
            "         1, 1, 1, 1, 0, 1, 1, 1, 1, 1, 1, 1, 1, 1, 1, 1, 1, 1, 1, 1, 1, 1, 1, 1,\n",
            "         1, 1, 0, 1, 1, 1, 1, 1, 1, 1, 1, 1, 1, 1, 1, 0, 0, 0, 0, 1, 1, 1, 1, 1,\n",
            "         1, 1, 1, 1],\n",
            "        [0, 0, 0, 0, 0, 0, 0, 0, 0, 0, 0, 0, 0, 0, 0, 0, 0, 0, 0, 0, 0, 0, 0, 0,\n",
            "         0, 0, 0, 0, 0, 0, 0, 0, 0, 0, 0, 0, 0, 0, 0, 0, 0, 0, 0, 0, 0, 0, 0, 0,\n",
            "         0, 0, 0, 0, 1, 0, 0, 0, 0, 0, 0, 0, 0, 0, 0, 0, 0, 0, 0, 0, 0, 0, 0, 0,\n",
            "         0, 0, 1, 0, 0, 0, 0, 0, 0, 0, 0, 0, 0, 0, 0, 1, 1, 1, 1, 0, 0, 0, 0, 0,\n",
            "         0, 0, 0, 0]])\n"
          ]
        }
      ]
    }
  ]
}